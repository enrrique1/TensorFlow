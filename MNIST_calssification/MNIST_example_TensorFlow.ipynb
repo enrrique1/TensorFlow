{
 "cells": [
  {
   "cell_type": "markdown",
   "metadata": {},
   "source": [
    "# MNIST with TensorFlow"
   ]
  },
  {
   "cell_type": "markdown",
   "metadata": {},
   "source": [
    "Code Created by Luis Enrique Acevedo Galicia\n",
    "\n",
    "Date: 2019-13-02\n",
    "\n",
    "\n",
    "Here, I present a simple and easy way to create a typlical MNIST classification with TensorFlow."
   ]
  },
  {
   "cell_type": "markdown",
   "metadata": {},
   "source": [
    "# The Libraries"
   ]
  },
  {
   "cell_type": "code",
   "execution_count": 1,
   "metadata": {},
   "outputs": [
    {
     "name": "stdout",
     "output_type": "stream",
     "text": [
      "WARNING:tensorflow:From <ipython-input-1-d3f598c92b63>:4: read_data_sets (from tensorflow.contrib.learn.python.learn.datasets.mnist) is deprecated and will be removed in a future version.\n",
      "Instructions for updating:\n",
      "Please use alternatives such as official/mnist/dataset.py from tensorflow/models.\n",
      "WARNING:tensorflow:From /home/bwayne/anaconda3/lib/python3.6/site-packages/tensorflow/contrib/learn/python/learn/datasets/mnist.py:260: maybe_download (from tensorflow.contrib.learn.python.learn.datasets.base) is deprecated and will be removed in a future version.\n",
      "Instructions for updating:\n",
      "Please write your own downloading logic.\n",
      "WARNING:tensorflow:From /home/bwayne/anaconda3/lib/python3.6/site-packages/tensorflow/contrib/learn/python/learn/datasets/mnist.py:262: extract_images (from tensorflow.contrib.learn.python.learn.datasets.mnist) is deprecated and will be removed in a future version.\n",
      "Instructions for updating:\n",
      "Please use tf.data to implement this functionality.\n",
      "Extracting MNIST_data/train-images-idx3-ubyte.gz\n",
      "WARNING:tensorflow:From /home/bwayne/anaconda3/lib/python3.6/site-packages/tensorflow/contrib/learn/python/learn/datasets/mnist.py:267: extract_labels (from tensorflow.contrib.learn.python.learn.datasets.mnist) is deprecated and will be removed in a future version.\n",
      "Instructions for updating:\n",
      "Please use tf.data to implement this functionality.\n",
      "Extracting MNIST_data/train-labels-idx1-ubyte.gz\n",
      "WARNING:tensorflow:From /home/bwayne/anaconda3/lib/python3.6/site-packages/tensorflow/contrib/learn/python/learn/datasets/mnist.py:110: dense_to_one_hot (from tensorflow.contrib.learn.python.learn.datasets.mnist) is deprecated and will be removed in a future version.\n",
      "Instructions for updating:\n",
      "Please use tf.one_hot on tensors.\n",
      "Extracting MNIST_data/t10k-images-idx3-ubyte.gz\n",
      "Extracting MNIST_data/t10k-labels-idx1-ubyte.gz\n",
      "WARNING:tensorflow:From /home/bwayne/anaconda3/lib/python3.6/site-packages/tensorflow/contrib/learn/python/learn/datasets/mnist.py:290: DataSet.__init__ (from tensorflow.contrib.learn.python.learn.datasets.mnist) is deprecated and will be removed in a future version.\n",
      "Instructions for updating:\n",
      "Please use alternatives such as official/mnist/dataset.py from tensorflow/models.\n"
     ]
    }
   ],
   "source": [
    "import numpy as np\n",
    "import tensorflow as tf\n",
    "from tensorflow.examples.tutorials.mnist import input_data\n",
    "mnist_data = input_data.read_data_sets(\"MNIST_data/\", one_hot=True)"
   ]
  },
  {
   "cell_type": "markdown",
   "metadata": {},
   "source": [
    "# The model"
   ]
  },
  {
   "cell_type": "code",
   "execution_count": 6,
   "metadata": {},
   "outputs": [
    {
     "name": "stdout",
     "output_type": "stream",
     "text": [
      "Epoch 1. Mean loss: 0.398. Validation loss: 0.190. Validation accuracy: 94.60%\n",
      "Epoch 2. Mean loss: 0.174. Validation loss: 0.140. Validation accuracy: 96.22%\n",
      "Epoch 3. Mean loss: 0.128. Validation loss: 0.112. Validation accuracy: 96.84%\n",
      "Epoch 4. Mean loss: 0.104. Validation loss: 0.104. Validation accuracy: 96.84%\n",
      "Epoch 5. Mean loss: 0.087. Validation loss: 0.097. Validation accuracy: 97.12%\n",
      "Epoch 6. Mean loss: 0.074. Validation loss: 0.097. Validation accuracy: 97.32%\n",
      "End of training.\n"
     ]
    }
   ],
   "source": [
    "#model size\n",
    "size_input = 784\n",
    "size_output = 10\n",
    "\n",
    "#hidden layers size (the same for all layers)\n",
    "size_hl = 50\n",
    "\n",
    "#clear memory\n",
    "tf.reset_default_graph()\n",
    "\n",
    "#define inputs and targets\n",
    "TF_inputs = tf.placeholder(tf.float32, [None, size_input])\n",
    "TF_targets = tf.placeholder(tf.float32, [None, size_output])\n",
    "\n",
    "#----------Layer 1---------\n",
    "\n",
    "#initialization of weights and bias of layer 1\n",
    "TF_w1 = tf.get_variable(\"TF_w1\", [size_input, size_hl])\n",
    "TF_b1 = tf.get_variable(\"TF_b1\", [size_hl])\n",
    "\n",
    "#set the outputs of layer 1 (ReLu as activation function)\n",
    "TF_o1 = tf.nn.relu(tf.matmul(TF_inputs, TF_w1) + TF_b1)\n",
    "\n",
    "#----------Layer 2---------\n",
    "\n",
    "#initialization of weights and bias of layer 1\n",
    "TF_w2 = tf.get_variable(\"TF_w2\", [size_hl, size_hl])\n",
    "TF_b2 = tf.get_variable(\"TF_b2\", [size_hl])\n",
    "\n",
    "#set the outputs of layer 1 (ReLu as activation function)\n",
    "TF_o2 = tf.nn.relu(tf.matmul(TF_o1, TF_w2) + TF_b2)\n",
    "\n",
    "#----------Layer 3---------\n",
    "\n",
    "#initialization of weights and bias of layer 1\n",
    "TF_w3 = tf.get_variable(\"TF_w3\", [size_hl, size_output])\n",
    "TF_b3 = tf.get_variable(\"TF_b3\", [size_output])\n",
    "\n",
    "#set the outputs of layer 1 (ReLu as activation function)\n",
    "TF_out = tf.matmul(TF_o2, TF_w3) + TF_b3\n",
    "\n",
    "\n",
    "#loss function\n",
    "TF_lf = tf.nn.softmax_cross_entropy_with_logits(logits=TF_out, labels=TF_targets)\n",
    "#average loss\n",
    "AV_loss = tf.reduce_mean(TF_lf)\n",
    "\n",
    "#optimization\n",
    "TF_opt = tf.train.AdamOptimizer(learning_rate=0.001).minimize(AV_loss)\n",
    "\n",
    "# Get a 0 or 1 for every input\n",
    "TF_zero_one = tf.equal(tf.argmax(TF_out, 1), tf.argmax(TF_targets, 1))\n",
    "\n",
    "# Get the average accuracy of the outputs.\n",
    "TF_accuracy = tf.reduce_mean(tf.cast(TF_zero_one, tf.float32))\n",
    "\n",
    "#Prepare execution\n",
    "\n",
    "TF_sess = tf.InteractiveSession()\n",
    "TF_ini = tf.global_variables_initializer()\n",
    "TF_sess.run(TF_ini)\n",
    "\n",
    "#The batch\n",
    "size_batch = 100\n",
    "N_batch =  mnist_data.train._num_examples // size_batch\n",
    "\n",
    "#early stop\n",
    "max_epochs = 15\n",
    "prev_validation_loss = 9999999.\n",
    "\n",
    "#Epoch loop\n",
    "for epoch_count in range(max_epochs):\n",
    "    #batch losses tracking\n",
    "    curr_epoch_loss = 0.\n",
    "    \n",
    "    #batch iteration in epoch\n",
    "    for batch_counter in range(N_batch):\n",
    "        \n",
    "        #assigned input and target batch\n",
    "        input_batch, target_batch = mnist_data.train.next_batch(size_batch)\n",
    "       \n",
    "        # Run the optimization\n",
    "        _, batch_loss = TF_sess.run([TF_opt, AV_loss], \n",
    "            feed_dict={TF_inputs: input_batch, TF_targets: target_batch})\n",
    "        \n",
    "        # number of batch losses.\n",
    "        curr_epoch_loss += batch_loss\n",
    "\n",
    "    curr_epoch_loss /= N_batch\n",
    "    \n",
    "    #Inputs and targets from validation\n",
    "    input_batch, target_batch = mnist_data.validation.next_batch(mnist_data.validation._num_examples)\n",
    "    \n",
    "    #validating\n",
    "    validation_loss, validation_accuracy = TF_sess.run([AV_loss, TF_accuracy], \n",
    "        feed_dict={TF_inputs: input_batch, TF_targets: target_batch})\n",
    "    \n",
    "    # Print statistics for the current epoch\n",
    "    print('Epoch '+str(epoch_count+1)+\n",
    "          '. Mean loss: '+'{0:.3f}'.format(curr_epoch_loss)+\n",
    "          '. Validation loss: '+'{0:.3f}'.format(validation_loss)+\n",
    "          '. Validation accuracy: '+'{0:.2f}'.format(validation_accuracy * 100.)+'%')\n",
    "    \n",
    "    # Trigger early stopping if validation loss begins increasing.\n",
    "    if validation_loss > prev_validation_loss:\n",
    "        break\n",
    "        \n",
    "    # Store this epoch's validation loss to be used as previous validation loss in the next iteration.\n",
    "    prev_validation_loss = validation_loss\n",
    "\n",
    "print('End of training.')\n",
    "\n"
   ]
  },
  {
   "cell_type": "markdown",
   "metadata": {},
   "source": [
    "# Testing the model"
   ]
  },
  {
   "cell_type": "code",
   "execution_count": 9,
   "metadata": {},
   "outputs": [
    {
     "name": "stdout",
     "output_type": "stream",
     "text": [
      "Test accuracy: 97.17%\n"
     ]
    }
   ],
   "source": [
    "input_batch, target_batch = mnist_data.test.next_batch(mnist_data.test._num_examples)\n",
    "test_accuracy = TF_sess.run([TF_accuracy], \n",
    "    feed_dict={TF_inputs: input_batch, TF_targets: target_batch})\n",
    "\n",
    "\n",
    "test_accuracy_percent = test_accuracy[0] * 100.\n",
    "\n",
    "# Print the test accuracy formatted in percentages\n",
    "print('Test accuracy: '+'{0:.2f}'.format(test_accuracy_percent)+'%')"
   ]
  },
  {
   "cell_type": "code",
   "execution_count": 8,
   "metadata": {},
   "outputs": [
    {
     "data": {
      "text/plain": [
       "97.17000126838684"
      ]
     },
     "execution_count": 8,
     "metadata": {},
     "output_type": "execute_result"
    }
   ],
   "source": [
    "test_accuracy_percent"
   ]
  },
  {
   "cell_type": "code",
   "execution_count": null,
   "metadata": {},
   "outputs": [],
   "source": []
  }
 ],
 "metadata": {
  "kernelspec": {
   "display_name": "Python 3",
   "language": "python",
   "name": "python3"
  },
  "language_info": {
   "codemirror_mode": {
    "name": "ipython",
    "version": 3
   },
   "file_extension": ".py",
   "mimetype": "text/x-python",
   "name": "python",
   "nbconvert_exporter": "python",
   "pygments_lexer": "ipython3",
   "version": "3.6.8"
  }
 },
 "nbformat": 4,
 "nbformat_minor": 2
}
