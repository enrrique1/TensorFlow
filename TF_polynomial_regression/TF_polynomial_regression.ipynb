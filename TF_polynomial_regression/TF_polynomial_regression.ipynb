{
 "cells": [
  {
   "cell_type": "markdown",
   "metadata": {},
   "source": [
    "# Polynomial regression with TensorFlow "
   ]
  },
  {
   "cell_type": "markdown",
   "metadata": {},
   "source": [
    "Code Created by Luis Enrique Acevedo Galicia\n",
    "\n",
    "Date: 2019-02-03\n",
    "\n",
    "Here, I present a simple and easy way to create a polynomial linear regression with TensorFlow. In this case the data based on file Polynomial_test.csv. Dataset was created to emulate Y=a*x³+b*x²+c*x+d"
   ]
  },
  {
   "cell_type": "markdown",
   "metadata": {},
   "source": [
    "# The Libraries"
   ]
  },
  {
   "cell_type": "code",
   "execution_count": 74,
   "metadata": {},
   "outputs": [],
   "source": [
    "import numpy as np\n",
    "import pandas as pd\n",
    "import matplotlib.pyplot as plt\n",
    "import tensorflow as tf\n",
    "from sklearn import preprocessing"
   ]
  },
  {
   "cell_type": "markdown",
   "metadata": {},
   "source": [
    "# The data "
   ]
  },
  {
   "cell_type": "code",
   "execution_count": 75,
   "metadata": {},
   "outputs": [
    {
     "data": {
      "text/html": [
       "<div>\n",
       "<style scoped>\n",
       "    .dataframe tbody tr th:only-of-type {\n",
       "        vertical-align: middle;\n",
       "    }\n",
       "\n",
       "    .dataframe tbody tr th {\n",
       "        vertical-align: top;\n",
       "    }\n",
       "\n",
       "    .dataframe thead th {\n",
       "        text-align: right;\n",
       "    }\n",
       "</style>\n",
       "<table border=\"1\" class=\"dataframe\">\n",
       "  <thead>\n",
       "    <tr style=\"text-align: right;\">\n",
       "      <th></th>\n",
       "      <th>Serial No.</th>\n",
       "      <th>Input</th>\n",
       "      <th>Target</th>\n",
       "    </tr>\n",
       "  </thead>\n",
       "  <tbody>\n",
       "    <tr>\n",
       "      <th>0</th>\n",
       "      <td>1</td>\n",
       "      <td>9.65</td>\n",
       "      <td>4272.571313</td>\n",
       "    </tr>\n",
       "    <tr>\n",
       "      <th>1</th>\n",
       "      <td>2</td>\n",
       "      <td>8.87</td>\n",
       "      <td>3334.876333</td>\n",
       "    </tr>\n",
       "    <tr>\n",
       "      <th>2</th>\n",
       "      <td>3</td>\n",
       "      <td>8.00</td>\n",
       "      <td>2463.600000</td>\n",
       "    </tr>\n",
       "    <tr>\n",
       "      <th>3</th>\n",
       "      <td>4</td>\n",
       "      <td>8.67</td>\n",
       "      <td>3118.874103</td>\n",
       "    </tr>\n",
       "    <tr>\n",
       "      <th>4</th>\n",
       "      <td>5</td>\n",
       "      <td>8.21</td>\n",
       "      <td>2657.946905</td>\n",
       "    </tr>\n",
       "  </tbody>\n",
       "</table>\n",
       "</div>"
      ],
      "text/plain": [
       "   Serial No.  Input       Target\n",
       "0           1   9.65  4272.571313\n",
       "1           2   8.87  3334.876333\n",
       "2           3   8.00  2463.600000\n",
       "3           4   8.67  3118.874103\n",
       "4           5   8.21  2657.946905"
      ]
     },
     "execution_count": 75,
     "metadata": {},
     "output_type": "execute_result"
    }
   ],
   "source": [
    "data = pd.read_csv('Polynimial_test.csv')\n",
    "data.head()"
   ]
  },
  {
   "cell_type": "markdown",
   "metadata": {},
   "source": [
    "Verifying that data is completed"
   ]
  },
  {
   "cell_type": "code",
   "execution_count": 77,
   "metadata": {},
   "outputs": [
    {
     "data": {
      "text/html": [
       "<div>\n",
       "<style scoped>\n",
       "    .dataframe tbody tr th:only-of-type {\n",
       "        vertical-align: middle;\n",
       "    }\n",
       "\n",
       "    .dataframe tbody tr th {\n",
       "        vertical-align: top;\n",
       "    }\n",
       "\n",
       "    .dataframe thead th {\n",
       "        text-align: right;\n",
       "    }\n",
       "</style>\n",
       "<table border=\"1\" class=\"dataframe\">\n",
       "  <thead>\n",
       "    <tr style=\"text-align: right;\">\n",
       "      <th></th>\n",
       "      <th>Serial No.</th>\n",
       "      <th>Input</th>\n",
       "      <th>Target</th>\n",
       "    </tr>\n",
       "  </thead>\n",
       "  <tbody>\n",
       "  </tbody>\n",
       "</table>\n",
       "</div>"
      ],
      "text/plain": [
       "Empty DataFrame\n",
       "Columns: [Serial No., Input, Target]\n",
       "Index: []"
      ]
     },
     "execution_count": 77,
     "metadata": {},
     "output_type": "execute_result"
    }
   ],
   "source": [
    "data[pd.isnull(data['Input'])]"
   ]
  },
  {
   "cell_type": "markdown",
   "metadata": {},
   "source": [
    "learning about this data set"
   ]
  },
  {
   "cell_type": "code",
   "execution_count": 78,
   "metadata": {},
   "outputs": [
    {
     "data": {
      "text/html": [
       "<div>\n",
       "<style scoped>\n",
       "    .dataframe tbody tr th:only-of-type {\n",
       "        vertical-align: middle;\n",
       "    }\n",
       "\n",
       "    .dataframe tbody tr th {\n",
       "        vertical-align: top;\n",
       "    }\n",
       "\n",
       "    .dataframe thead th {\n",
       "        text-align: right;\n",
       "    }\n",
       "</style>\n",
       "<table border=\"1\" class=\"dataframe\">\n",
       "  <thead>\n",
       "    <tr style=\"text-align: right;\">\n",
       "      <th></th>\n",
       "      <th>Serial No.</th>\n",
       "      <th>Input</th>\n",
       "      <th>Target</th>\n",
       "    </tr>\n",
       "  </thead>\n",
       "  <tbody>\n",
       "    <tr>\n",
       "      <th>count</th>\n",
       "      <td>400.000000</td>\n",
       "      <td>400.000000</td>\n",
       "      <td>400.000000</td>\n",
       "    </tr>\n",
       "    <tr>\n",
       "      <th>mean</th>\n",
       "      <td>200.500000</td>\n",
       "      <td>8.598925</td>\n",
       "      <td>3086.352306</td>\n",
       "    </tr>\n",
       "    <tr>\n",
       "      <th>std</th>\n",
       "      <td>115.614301</td>\n",
       "      <td>0.596317</td>\n",
       "      <td>621.403472</td>\n",
       "    </tr>\n",
       "    <tr>\n",
       "      <th>min</th>\n",
       "      <td>1.000000</td>\n",
       "      <td>6.800000</td>\n",
       "      <td>1532.136000</td>\n",
       "    </tr>\n",
       "    <tr>\n",
       "      <th>25%</th>\n",
       "      <td>100.750000</td>\n",
       "      <td>8.170000</td>\n",
       "      <td>2620.166778</td>\n",
       "    </tr>\n",
       "    <tr>\n",
       "      <th>50%</th>\n",
       "      <td>200.500000</td>\n",
       "      <td>8.610000</td>\n",
       "      <td>3055.956898</td>\n",
       "    </tr>\n",
       "    <tr>\n",
       "      <th>75%</th>\n",
       "      <td>300.250000</td>\n",
       "      <td>9.062500</td>\n",
       "      <td>3551.999530</td>\n",
       "    </tr>\n",
       "    <tr>\n",
       "      <th>max</th>\n",
       "      <td>400.000000</td>\n",
       "      <td>9.920000</td>\n",
       "      <td>4634.092416</td>\n",
       "    </tr>\n",
       "  </tbody>\n",
       "</table>\n",
       "</div>"
      ],
      "text/plain": [
       "       Serial No.       Input       Target\n",
       "count  400.000000  400.000000   400.000000\n",
       "mean   200.500000    8.598925  3086.352306\n",
       "std    115.614301    0.596317   621.403472\n",
       "min      1.000000    6.800000  1532.136000\n",
       "25%    100.750000    8.170000  2620.166778\n",
       "50%    200.500000    8.610000  3055.956898\n",
       "75%    300.250000    9.062500  3551.999530\n",
       "max    400.000000    9.920000  4634.092416"
      ]
     },
     "execution_count": 78,
     "metadata": {},
     "output_type": "execute_result"
    }
   ],
   "source": [
    "Input_mean=data ['Input'].mean()\n",
    "Input_std=data ['Input'].std()\n",
    "Target_mean=data ['Target'].mean()\n",
    "Target_std=data ['Target'].std()\n",
    "data.describe()"
   ]
  },
  {
   "cell_type": "code",
   "execution_count": 91,
   "metadata": {},
   "outputs": [
    {
     "name": "stderr",
     "output_type": "stream",
     "text": [
      "/home/bwayne/anaconda3/lib/python3.6/site-packages/ipykernel_launcher.py:2: FutureWarning: Method .as_matrix will be removed in a future version. Use .values instead.\n",
      "  \n",
      "/home/bwayne/anaconda3/lib/python3.6/site-packages/ipykernel_launcher.py:7: FutureWarning: Method .as_matrix will be removed in a future version. Use .values instead.\n",
      "  import sys\n"
     ]
    }
   ],
   "source": [
    "# The dependent variable (y) is the price\n",
    "Targets = data ['Target'].as_matrix(columns=None)\n",
    "Targets=np.reshape(Targets, (400,1))\n",
    "Targets= preprocessing.scale(Targets) #(CGPA-mean)/std)\n",
    "\n",
    "# The independent variable (x) is the Area\n",
    "Inputs = data ['Input'].as_matrix(columns=None)\n",
    "Inputs = np.reshape(Inputs, (400,1))\n",
    "Inputs= preprocessing.scale(Inputs) #(CGPA-mean)/std)\n",
    "#export the data\n",
    "np.savez('TF_data', inputs=Inputs, targets=Targets)\n"
   ]
  },
  {
   "cell_type": "markdown",
   "metadata": {},
   "source": [
    "# Machine learning model"
   ]
  },
  {
   "cell_type": "code",
   "execution_count": 92,
   "metadata": {},
   "outputs": [
    {
     "name": "stderr",
     "output_type": "stream",
     "text": [
      "/home/bwayne/anaconda3/lib/python3.6/site-packages/tensorflow/python/client/session.py:1702: UserWarning: An interactive session is already active. This can cause out-of-memory errors in some cases. You must explicitly call `InteractiveSession.close()` to release resources held by the other session(s).\n",
      "  warnings.warn('An interactive session is already active. This can '\n"
     ]
    },
    {
     "name": "stdout",
     "output_type": "stream",
     "text": [
      "a =  0.0015320544\n",
      "b =  0.067660734\n",
      "c =  0.9971167\n",
      "d =  -0.06756005\n"
     ]
    }
   ],
   "source": [
    "#size of the variables\n",
    "size_input = 1\n",
    "size_output = 1\n",
    "\n",
    "#define inputs and targets\n",
    "TF_inputs = tf.placeholder(tf.float32, [None, size_input])\n",
    "TF_targets = tf.placeholder(tf.float32, [None, size_output])\n",
    "\n",
    "#initialize variables\n",
    "a = tf.Variable(tf.random_normal([]))\n",
    "b = tf.Variable(tf.random_normal([]))\n",
    "c = tf.Variable(tf.random_normal([]))\n",
    "d = tf.Variable(tf.random_normal([]))\n",
    "\n",
    "\n",
    "#create the model and the loss\n",
    "ML_model = a * tf.pow(TF_inputs, 3) + b * tf.pow(TF_inputs, 2) + c * TF_inputs + d\n",
    "ML_ls =tf.losses.mean_squared_error(labels=TF_targets, predictions=ML_model)\n",
    "\n",
    "#optimizer\n",
    "Learning_rate = 0.04\n",
    "N_epochs = 1000\n",
    "optimizer = tf.train.GradientDescentOptimizer(Learning_rate).minimize(ML_ls)\n",
    "\n",
    "#Prepare execution\n",
    "\n",
    "TF_sess = tf.InteractiveSession()\n",
    "TF_ini = tf.global_variables_initializer()\n",
    "TF_sess.run(TF_ini)\n",
    "\n",
    "#load the data\n",
    "Train_data = np.load('TF_data.npz')\n",
    "\n",
    "\n",
    "#training\n",
    "\n",
    "for n  in range(N_epochs):\n",
    "    _, curr_loss = TF_sess.run([optimizer, ML_ls], \n",
    "        feed_dict={TF_inputs: Train_data['inputs'], TF_targets: Train_data['targets']})\n",
    "\n",
    "\n",
    "#print(curr_loss)\n",
    "print('a = ', TF_sess.run(a))\n",
    "print('b = ', TF_sess.run(b))\n",
    "print('c = ', TF_sess.run(c))\n",
    "print('d = ', TF_sess.run(d))\n",
    "TF_a=TF_sess.run(a)\n",
    "TF_b=TF_sess.run(b)\n",
    "TF_c=TF_sess.run(c)\n",
    "TF_d=TF_sess.run(d)\n",
    "\n"
   ]
  },
  {
   "cell_type": "markdown",
   "metadata": {},
   "source": [
    "# Plot results"
   ]
  },
  {
   "cell_type": "code",
   "execution_count": 95,
   "metadata": {},
   "outputs": [
    {
     "data": {
      "image/png": "[encoded data removed]",
      "text/plain": [
       "<Figure size 432x288 with 1 Axes>"
      ]
     },
     "metadata": {
      "needs_background": "light"
     },
     "output_type": "display_data"
    }
   ],
   "source": [
    "# The same plot\n",
    "plt.scatter(Inputs,Targets)\n",
    "y_hat = TF_a*pow(Inputs, 3) + TF_a*pow(Inputs, 2)+TF_c*Inputs+TF_d\n",
    "# Plot the regression line \n",
    "fig = plt.scatter(Inputs,y_hat,c='red')\n",
    "#plt.plot(Inputs,y_hat, lw=3, c='red', label ='regression line')\n",
    "\n",
    "plt.ylabel('Low birthweight (%) 2007-2011')\n",
    "plt.xlabel('popu')\n",
    "plt.show()"
   ]
  },
  {
   "cell_type": "markdown",
   "metadata": {},
   "source": [
    "# Test the model"
   ]
  },
  {
   "cell_type": "code",
   "execution_count": 98,
   "metadata": {},
   "outputs": [
    {
     "name": "stdout",
     "output_type": "stream",
     "text": [
      "What's your Input? 9.65\n",
      "Your target is  4144.675397188825\n"
     ]
    }
   ],
   "source": [
    "Input_test = input(\"What's your Input? \")\n",
    "Scaled_Input=(np.float32(Input_test)-Input_mean)/Input_std\n",
    "Scaled_Output=TF_a*pow(Scaled_Input, 3) + TF_a*pow(Scaled_Input, 2)+TF_c*Scaled_Input+TF_d\n",
    "Output_test=Scaled_Output*Target_std+Target_mean\n",
    "print('Your target is ', Output_test)"
   ]
  },
  {
   "cell_type": "code",
   "execution_count": null,
   "metadata": {},
   "outputs": [],
   "source": []
  }
 ],
 "metadata": {
  "kernelspec": {
   "display_name": "Python 3",
   "language": "python",
   "name": "python3"
  },
  "language_info": {
   "codemirror_mode": {
    "name": "ipython",
    "version": 3
   },
   "file_extension": ".py",
   "mimetype": "text/x-python",
   "name": "python",
   "nbconvert_exporter": "python",
   "pygments_lexer": "ipython3",
   "version": "3.6.8"
  }
 },
 "nbformat": 4,
 "nbformat_minor": 2
}
