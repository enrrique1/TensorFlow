{
 "cells": [
  {
   "cell_type": "markdown",
   "metadata": {},
   "source": [
    "## Classification -Manual example-"
   ]
  },
  {
   "cell_type": "markdown",
   "metadata": {},
   "source": [
    "Code Created by Luis Enrique Acevedo Galicia\n",
    "\n",
    "Date: 2019-01-01\n",
    "\n",
    "Here, I present a simple and easy way to create a graph with its own session to solve a simple classification problem.\n",
    "\n",
    "This is an extention of \"Graph and session example\" presented previously."
   ]
  },
  {
   "cell_type": "markdown",
   "metadata": {},
   "source": [
    "# The General Operation"
   ]
  },
  {
   "cell_type": "markdown",
   "metadata": {},
   "source": [
    "The operation is a a node in a \"Graph\".\n",
    "\n",
    "The Operation class is inherited by other classes that compute the specific operations, such as adding or matrix multiplication."
   ]
  },
  {
   "cell_type": "code",
   "execution_count": 22,
   "metadata": {},
   "outputs": [],
   "source": [
    "import numpy as np\n",
    "from sklearn.datasets import make_blobs\n",
    "import matplotlib.pyplot as plt\n",
    "%matplotlib inline"
   ]
  },
  {
   "cell_type": "code",
   "execution_count": 2,
   "metadata": {},
   "outputs": [],
   "source": [
    "class TheOperation():\n",
    "    \n",
    "    #Here, we initilize any operation\n",
    "    def __init__(self, Nodes_Input = []):\n",
    "        \n",
    "        self.Nodes_Input = Nodes_Input #This is the list of inputs\n",
    "        self.Nodes_Ouput = [] # This is the list of empty outputs\n",
    "        \n",
    "        for Nodes in Nodes_Input:\n",
    "            Nodes.Nodes_Ouput.append(self) #for inputs nodes, we append the operation\n",
    "    \n",
    "        _main_graph.Operation.append(self)\n",
    "    \n",
    "    def computing(self):\n",
    "        pass #provisional placeholder, the actual operation will be inherit here."
   ]
  },
  {
   "cell_type": "markdown",
   "metadata": {},
   "source": [
    "# Operations"
   ]
  },
  {
   "cell_type": "markdown",
   "metadata": {},
   "source": [
    "Here, all the operations will be defined as a class"
   ]
  },
  {
   "cell_type": "markdown",
   "metadata": {},
   "source": [
    "# Add +"
   ]
  },
  {
   "cell_type": "code",
   "execution_count": 3,
   "metadata": {},
   "outputs": [],
   "source": [
    "class add(TheOperation):\n",
    "    \n",
    "    def __init__(self, a,b):\n",
    "        super().__init__([a,b]) #we assign the inputs of the operation\n",
    "        \n",
    "    def computing(self, a,b): #this is the actual operation\n",
    "        self.Inputs = [a,b]\n",
    "        return a + b"
   ]
  },
  {
   "cell_type": "markdown",
   "metadata": {},
   "source": [
    "We can re-use the same code to create the rest of the operations"
   ]
  },
  {
   "cell_type": "markdown",
   "metadata": {},
   "source": [
    "# Multiplication *"
   ]
  },
  {
   "cell_type": "code",
   "execution_count": 4,
   "metadata": {},
   "outputs": [],
   "source": [
    "class multiply(TheOperation):\n",
    "    \n",
    "    def __init__(self, a,b):\n",
    "        super().__init__([a,b]) #we assign the inputs of the operation\n",
    "        \n",
    "    def computing(self, a,b): #this is the actual operation\n",
    "        self.Inputs = [a,b]\n",
    "        return a * b"
   ]
  },
  {
   "cell_type": "markdown",
   "metadata": {},
   "source": [
    "# Multiplication (Matrix) .*"
   ]
  },
  {
   "cell_type": "code",
   "execution_count": 5,
   "metadata": {},
   "outputs": [],
   "source": [
    "class multiplyM(TheOperation):\n",
    "    \n",
    "    def __init__(self, a,b):\n",
    "        super().__init__([a,b]) #we assign the inputs of the operation\n",
    "        \n",
    "    def computing(self, a,b): #this is the actual operation\n",
    "        self.Inputs = [a,b]\n",
    "        return a.dot(b)"
   ]
  },
  {
   "cell_type": "markdown",
   "metadata": {},
   "source": [
    "# The placeholders"
   ]
  },
  {
   "cell_type": "markdown",
   "metadata": {},
   "source": [
    "The placeholder is a empty node that will need a value for compute the outputs in the Graph.\n"
   ]
  },
  {
   "cell_type": "code",
   "execution_count": 6,
   "metadata": {},
   "outputs": [],
   "source": [
    "class Theplaceholder():\n",
    "    \n",
    "    def __init__(self):\n",
    "        self.Nodes_Ouput = [] #at the beginning it is an empty list\n",
    "        _main_graph.Placeholders.append(self) #use a global variable to access to the graph"
   ]
  },
  {
   "cell_type": "markdown",
   "metadata": {},
   "source": [
    "# The Variables"
   ]
  },
  {
   "cell_type": "markdown",
   "metadata": {},
   "source": [
    "Here, all variables are defined as a changeable value of the Graph."
   ]
  },
  {
   "cell_type": "code",
   "execution_count": 7,
   "metadata": {},
   "outputs": [],
   "source": [
    "class TheVariable():\n",
    "    \n",
    "    def __init__(self, value_initial = None): #the variable is initialize as empty\n",
    "        self.value = value_initial\n",
    "        self.Nodes_Ouput = []\n",
    "        _main_graph.Variables.append(self) #use a global variable to access to the graph"
   ]
  },
  {
   "cell_type": "markdown",
   "metadata": {},
   "source": [
    "# Order the operations, variables and placeholders"
   ]
  },
  {
   "cell_type": "markdown",
   "metadata": {},
   "source": [
    "This function creates a list of all operations, variables and placeholders in correct order to the be computed."
   ]
  },
  {
   "cell_type": "code",
   "execution_count": 8,
   "metadata": {},
   "outputs": [],
   "source": [
    "def Order_operation(operation):\n",
    "    \n",
    "    Ordered_nodes = []\n",
    "    \n",
    "    def order(Operation_nodes):\n",
    "        if isinstance(Operation_nodes, TheOperation): #If the node is part of an operation\n",
    "            for Nodes_input in Operation_nodes.Nodes_Input:\n",
    "                order(Nodes_input)\n",
    "        Ordered_nodes.append(Operation_nodes)\n",
    "    \n",
    "    order(operation)\n",
    "    return Ordered_nodes"
   ]
  },
  {
   "cell_type": "markdown",
   "metadata": {},
   "source": [
    "# The Graph"
   ]
  },
  {
   "cell_type": "markdown",
   "metadata": {},
   "source": [
    "Here is wehre the Graph is defined, to then perform computations in a session."
   ]
  },
  {
   "cell_type": "code",
   "execution_count": 9,
   "metadata": {},
   "outputs": [],
   "source": [
    "class TheGraph():\n",
    "    \n",
    "    def __init__(self):\n",
    "        \n",
    "        self.Operation = []\n",
    "        self.Variables = []\n",
    "        self.Placeholders = []\n",
    "    \n",
    "    def Default(self):\n",
    "        \n",
    "        global _main_graph #definition of global variable\n",
    "        _main_graph = self"
   ]
  },
  {
   "cell_type": "markdown",
   "metadata": {},
   "source": [
    "# The session"
   ]
  },
  {
   "cell_type": "code",
   "execution_count": 10,
   "metadata": {},
   "outputs": [],
   "source": [
    "class TheSession():\n",
    "    \n",
    "    def run(self, operation, Placeholder_dict = {}): #Placeholder_dict is the dictionary defining the placeholders\n",
    "        \n",
    "        #Create the list of operations, variables and placeholders\n",
    "        \n",
    "        Ordered_nodes = Order_operation(operation)\n",
    "        \n",
    "        for Nodes in Ordered_nodes:\n",
    "            if type(Nodes) == TheVariable:\n",
    "                Nodes.output = Nodes.value #the variables values  \n",
    "            elif type(Nodes) == Theplaceholder:\n",
    "                Nodes.output = Placeholder_dict[Nodes] #feed values to placeholders\n",
    "            else: #perform the operations\n",
    "                Nodes.inputs = [Nodes_Input.output for Nodes_Input in Nodes.Nodes_Input]\n",
    "                Nodes.output = Nodes.computing(*Nodes.inputs) #The * means that we do not know the number of parameters\n",
    "            if type(Nodes.output) == list:\n",
    "                Nodes.output = np.array(Nodes.output) #Convert to np array\n",
    "                \n",
    "        return operation.output"
   ]
  },
  {
   "cell_type": "markdown",
   "metadata": {},
   "source": [
    "# Activation function"
   ]
  },
  {
   "cell_type": "markdown",
   "metadata": {},
   "source": [
    "Before continue with the classification problem, it is necessary to define an activation function."
   ]
  },
  {
   "cell_type": "markdown",
   "metadata": {},
   "source": [
    "## Sigmoid activation"
   ]
  },
  {
   "cell_type": "code",
   "execution_count": 11,
   "metadata": {},
   "outputs": [],
   "source": [
    "class Sigmoid_Activation(TheOperation):\n",
    "    \n",
    "    def __init__(self, z):\n",
    "        super().__init__([z]) #we assign the inputs of the operation\n",
    "        \n",
    "    def computing(self, z): #this is the actual operation\n",
    "        \n",
    "        return 1/(1+np.exp(-z))"
   ]
  },
  {
   "cell_type": "markdown",
   "metadata": {},
   "source": [
    "# Classification Example"
   ]
  },
  {
   "cell_type": "markdown",
   "metadata": {},
   "source": [
    "## Create data"
   ]
  },
  {
   "cell_type": "code",
   "execution_count": 24,
   "metadata": {},
   "outputs": [],
   "source": [
    "Cdata = make_blobs(n_samples=100, n_features=2, centers=2, random_state=75)"
   ]
  },
  {
   "cell_type": "code",
   "execution_count": 25,
   "metadata": {},
   "outputs": [
    {
     "data": {
      "text/plain": [
       "(array([[ 7.61931252e+00,  9.25367084e+00],\n",
       "        [ 8.62924727e+00,  7.95324031e+00],\n",
       "        [ 7.58264275e+00,  8.70372438e+00],\n",
       "        [ 1.31977821e+00, -7.27106670e+00],\n",
       "        [ 2.41247647e+00, -9.99341197e+00],\n",
       "        [ 8.03307900e+00,  9.14918227e+00],\n",
       "        [ 1.06965742e+00, -8.16482510e+00],\n",
       "        [ 8.24497700e+00,  7.84672005e+00],\n",
       "        [ 1.93525980e+00, -7.17127649e+00],\n",
       "        [ 7.15614551e+00,  9.19767913e+00],\n",
       "        [ 3.04605603e+00, -7.50486114e+00],\n",
       "        [ 8.10102654e+00,  8.75813782e+00],\n",
       "        [ 7.31557237e+00,  9.14404937e+00],\n",
       "        [ 3.42929482e+00, -7.80419369e+00],\n",
       "        [ 1.37717651e+00, -1.02226348e+01],\n",
       "        [-2.66966481e-01, -8.00678506e+00],\n",
       "        [ 1.82608307e+00, -5.36968617e+00],\n",
       "        [ 6.85275523e+00,  9.19926872e+00],\n",
       "        [ 9.56869106e-01, -7.91238745e+00],\n",
       "        [ 8.24102706e-01, -1.02285428e+01],\n",
       "        [ 1.96322881e+00, -9.50169117e+00],\n",
       "        [ 8.59328012e+00,  8.93859056e+00],\n",
       "        [ 9.33986161e+00,  7.50691764e+00],\n",
       "        [ 1.05865542e+00, -8.43841416e+00],\n",
       "        [ 2.72364028e+00, -8.24665779e+00],\n",
       "        [ 2.00890845e+00, -9.78471782e+00],\n",
       "        [ 7.51794366e+00,  9.44898266e+00],\n",
       "        [ 1.92000795e+00, -7.50953708e+00],\n",
       "        [ 1.30604214e+00, -8.25681177e+00],\n",
       "        [ 7.01234150e+00,  1.15597048e+01],\n",
       "        [ 8.70077989e+00,  8.75871148e+00],\n",
       "        [ 2.09335725e+00, -7.66278316e+00],\n",
       "        [ 5.86644446e+00,  8.16689882e+00],\n",
       "        [ 1.23053506e+00, -7.98873571e+00],\n",
       "        [ 8.08189402e+00,  9.32716002e+00],\n",
       "        [ 6.55827683e-01, -9.59208780e+00],\n",
       "        [ 7.34356149e+00,  7.25206391e+00],\n",
       "        [ 7.22266722e+00,  7.35154466e+00],\n",
       "        [ 7.27748391e+00,  7.70803805e+00],\n",
       "        [ 7.36565322e+00,  8.29927361e+00],\n",
       "        [ 7.31943614e+00,  8.48278828e+00],\n",
       "        [ 8.45092473e+00,  9.61764632e+00],\n",
       "        [ 8.96868014e+00,  8.31372360e+00],\n",
       "        [ 3.13114921e+00, -8.68494930e+00],\n",
       "        [ 6.14636015e-01, -9.51908883e+00],\n",
       "        [ 1.77126419e+00, -9.39898265e+00],\n",
       "        [ 1.32289422e+00, -6.48525553e+00],\n",
       "        [ 5.66074130e-01, -8.52139667e+00],\n",
       "        [ 8.36533222e+00,  8.38542456e+00],\n",
       "        [ 6.94955160e+00,  7.88012065e+00],\n",
       "        [ 5.46660211e-02, -9.41904481e+00],\n",
       "        [ 7.33738338e+00,  9.11373140e+00],\n",
       "        [ 8.94678094e-01, -1.01218601e+01],\n",
       "        [ 8.49977447e+00,  9.95288811e+00],\n",
       "        [ 1.03238456e+01,  7.39955236e+00],\n",
       "        [ 6.44154633e-02, -9.04982817e+00],\n",
       "        [ 8.06887628e+00,  8.14680238e+00],\n",
       "        [ 6.61272380e+00,  6.11934583e+00],\n",
       "        [ 5.22206821e-01, -8.03894057e+00],\n",
       "        [ 2.72532584e+00, -7.51956557e+00],\n",
       "        [-1.04198438e-02, -7.49682138e+00],\n",
       "        [ 8.65575556e-01, -8.41553795e+00],\n",
       "        [ 7.93706999e+00,  7.30536839e+00],\n",
       "        [ 7.72501975e+00,  1.01563274e+01],\n",
       "        [ 8.35748702e+00,  8.50985870e+00],\n",
       "        [ 8.37247490e+00,  6.51649085e+00],\n",
       "        [ 8.89432808e+00,  9.24191533e+00],\n",
       "        [-1.20046211e+00, -9.55928542e+00],\n",
       "        [ 7.95672084e+00,  8.28006244e+00],\n",
       "        [ 7.27823543e+00,  1.00621765e+01],\n",
       "        [ 8.66503370e+00,  9.77401661e+00],\n",
       "        [ 7.95803846e-01, -9.00301023e+00],\n",
       "        [ 1.39708520e+00, -7.25918415e+00],\n",
       "        [ 1.38633453e+00, -7.76488437e+00],\n",
       "        [ 2.88603902e+00, -8.85261704e+00],\n",
       "        [ 1.59272987e+00, -8.46509690e+00],\n",
       "        [ 7.01938710e+00,  8.92881054e+00],\n",
       "        [ 1.99243535e+00, -8.85885722e+00],\n",
       "        [ 8.20752800e+00,  8.41054183e+00],\n",
       "        [ 1.57961049e+00, -8.17089971e+00],\n",
       "        [ 1.46695415e+00, -9.28721999e+00],\n",
       "        [ 1.90073973e+00, -7.24386675e+00],\n",
       "        [ 7.17455351e+00,  7.41018978e+00],\n",
       "        [ 1.82921897e+00, -9.86956281e+00],\n",
       "        [ 4.01526696e-02, -8.94031487e+00],\n",
       "        [ 8.53768970e+00,  8.91814478e+00],\n",
       "        [ 2.74991843e+00, -8.52481798e+00],\n",
       "        [ 1.00735169e+01,  8.98876705e+00],\n",
       "        [ 7.21695672e+00,  6.98134041e+00],\n",
       "        [ 9.16726011e+00,  9.14440640e+00],\n",
       "        [ 1.00102859e+00, -9.54867510e+00],\n",
       "        [ 7.73699587e+00,  9.09535488e+00],\n",
       "        [ 7.49698241e+00,  8.88378296e+00],\n",
       "        [ 7.58314107e+00,  7.57361129e+00],\n",
       "        [ 1.41804346e+00, -8.10517372e+00],\n",
       "        [ 7.22188494e+00,  6.95940083e+00],\n",
       "        [ 1.85582689e+00, -6.74473432e+00],\n",
       "        [ 8.44517450e+00,  7.52290802e+00],\n",
       "        [-7.32671545e-02, -1.16999964e+01],\n",
       "        [ 3.27031066e+00, -7.91978361e+00]]),\n",
       " array([1, 1, 1, 0, 0, 1, 0, 1, 0, 1, 0, 1, 1, 0, 0, 0, 0, 1, 0, 0, 0, 1,\n",
       "        1, 0, 0, 0, 1, 0, 0, 1, 1, 0, 1, 0, 1, 0, 1, 1, 1, 1, 1, 1, 1, 0,\n",
       "        0, 0, 0, 0, 1, 1, 0, 1, 0, 1, 1, 0, 1, 1, 0, 0, 0, 0, 1, 1, 1, 1,\n",
       "        1, 0, 1, 1, 1, 0, 0, 0, 0, 0, 1, 0, 1, 0, 0, 0, 1, 0, 0, 1, 0, 1,\n",
       "        1, 1, 0, 1, 1, 1, 0, 1, 0, 1, 0, 0]))"
      ]
     },
     "execution_count": 25,
     "metadata": {},
     "output_type": "execute_result"
    }
   ],
   "source": [
    "Cdata"
   ]
  },
  {
   "cell_type": "code",
   "execution_count": 26,
   "metadata": {},
   "outputs": [],
   "source": [
    "Features = Cdata[0] #The points in the classifications\n",
    "labels = Cdata[1] #Calssification state"
   ]
  },
  {
   "cell_type": "markdown",
   "metadata": {},
   "source": [
    "## Plot of the Data"
   ]
  },
  {
   "cell_type": "code",
   "execution_count": null,
   "metadata": {},
   "outputs": [],
   "source": [
    "plt.scatter(Features[:,0],Features[:,1], c=labels)"
   ]
  },
  {
   "cell_type": "markdown",
   "metadata": {},
   "source": [
    "## Manually separation of classes"
   ]
  },
  {
   "cell_type": "markdown",
   "metadata": {},
   "source": [
    "The equation to separate classes is: y = mx +b\n",
    "\n",
    "In this particular case y = -x + 7\n",
    "\n",
    "The features are\n",
    "\n",
    "f1=mf2+b\n",
    "\n",
    "Where:\n",
    "\n",
    "m=1\n",
    "\n",
    "so...\n",
    "\n",
    "f1=-f2+5\n",
    "\n",
    "f1+f2-5 = 0\n",
    "\n",
    "In matrix form: (1,1)f-5=0"
   ]
  },
  {
   "cell_type": "code",
   "execution_count": 31,
   "metadata": {},
   "outputs": [
    {
     "data": {
      "text/plain": [
       "[<matplotlib.lines.Line2D at 0x7f08639a52b0>]"
      ]
     },
     "execution_count": 31,
     "metadata": {},
     "output_type": "execute_result"
    },
    {
     "data": {
      "image/png": "[encoded data removed]",
      "text/plain": [
       "<Figure size 432x288 with 1 Axes>"
      ]
     },
     "metadata": {
      "needs_background": "light"
     },
     "output_type": "display_data"
    }
   ],
   "source": [
    "x = np.linspace(0,11,10) #Points along X axis\n",
    "y = -x + 7 #Points along Y exis\n",
    "plt.scatter(Features[:,0],Features[:,1], c=labels)\n",
    "plt.plot(x,y)"
   ]
  },
  {
   "cell_type": "markdown",
   "metadata": {},
   "source": [
    "# Examples (Manually with equation)"
   ]
  },
  {
   "cell_type": "code",
   "execution_count": 38,
   "metadata": {},
   "outputs": [
    {
     "data": {
      "text/plain": [
       "array([1.])"
      ]
     },
     "execution_count": 38,
     "metadata": {},
     "output_type": "execute_result"
    }
   ],
   "source": [
    "#if we choose a point in (8,10) and perform the equation in matrix form\n",
    "np.round(1/(1+np.exp(-np.array([1, 1]).dot(np.array([[8],[10]])) - 7)))"
   ]
  },
  {
   "cell_type": "code",
   "execution_count": 39,
   "metadata": {},
   "outputs": [
    {
     "data": {
      "text/plain": [
       "array([0.])"
      ]
     },
     "execution_count": 39,
     "metadata": {},
     "output_type": "execute_result"
    }
   ],
   "source": [
    "#if we choose a point in (2,-10) and perform the equation in matrix form\n",
    "np.round(1/(1+np.exp(-np.array([1, 1]).dot(np.array([[2],[-10]])) - 7)))"
   ]
  },
  {
   "cell_type": "markdown",
   "metadata": {},
   "source": [
    "# Examples (Using Graph and session)"
   ]
  },
  {
   "cell_type": "code",
   "execution_count": 55,
   "metadata": {},
   "outputs": [
    {
     "name": "stdout",
     "output_type": "stream",
     "text": [
      "Classification of (8,10) is 1, yellow points\n",
      "Classification of (2,-10) is 0, purple points\n"
     ]
    }
   ],
   "source": [
    "#Define the Graph\n",
    "C = TheGraph()\n",
    "C.Default()\n",
    "#Define placeholders, variables and operations\n",
    "x = Theplaceholder()\n",
    "w = TheVariable([1,1])\n",
    "b = TheVariable(-7)\n",
    "z = add(multiplyM(w,x),b)\n",
    "a = Sigmoid_Activation(z)\n",
    "#Define the session\n",
    "Sess = TheSession()\n",
    "Class_8_10 =np.round(Sess.run(operation = a, Placeholder_dict = {x:[8,10]}))\n",
    "print(\"Classification of (8,10) is %d, yellow points\" %(Class_8_10))\n",
    "Class_2_m10 = np.round(Sess.run(operation = a, Placeholder_dict = {x:[2,-10]}))\n",
    "print(\"Classification of (2,-10) is %d, purple points\" %(Class_2_m10))"
   ]
  }
 ],
 "metadata": {
  "kernelspec": {
   "display_name": "Python 3",
   "language": "python",
   "name": "python3"
  },
  "language_info": {
   "codemirror_mode": {
    "name": "ipython",
    "version": 3
   },
   "file_extension": ".py",
   "mimetype": "text/x-python",
   "name": "python",
   "nbconvert_exporter": "python",
   "pygments_lexer": "ipython3",
   "version": "3.6.8"
  }
 },
 "nbformat": 4,
 "nbformat_minor": 2
}
