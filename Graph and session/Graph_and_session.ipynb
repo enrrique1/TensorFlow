{
 "cells": [
  {
   "cell_type": "markdown",
   "metadata": {},
   "source": [
    "## Graph and session example"
   ]
  },
  {
   "cell_type": "markdown",
   "metadata": {},
   "source": [
    "Code Created by Luis Enrique Acevedo Galicia\n",
    "\n",
    "Date: 2019-27-03\n",
    "\n",
    "Here, I present a simple and easy way to create a graph with its own session. Just as TensorFlow does."
   ]
  },
  {
   "cell_type": "markdown",
   "metadata": {},
   "source": [
    "# The General Operation"
   ]
  },
  {
   "cell_type": "markdown",
   "metadata": {},
   "source": [
    "The operation is a a node in a \"Graph\".\n",
    "\n",
    "The Operation class is inherited by other classes that compute the specific operations, such as adding or matrix multiplication."
   ]
  },
  {
   "cell_type": "code",
   "execution_count": 1,
   "metadata": {},
   "outputs": [],
   "source": [
    "import numpy as np"
   ]
  },
  {
   "cell_type": "code",
   "execution_count": 2,
   "metadata": {},
   "outputs": [],
   "source": [
    "class TheOperation():\n",
    "    \n",
    "    #Here, we initilize any operation\n",
    "    def __init__(self, Nodes_Input = []):\n",
    "        \n",
    "        self.Nodes_Input = Nodes_Input #This is the list of inputs\n",
    "        self.Nodes_Ouput = [] # This is the list of empty outputs\n",
    "        \n",
    "        for Nodes in Nodes_Input:\n",
    "            Nodes.Nodes_Ouput.append(self) #for inputs nodes, we append the operation\n",
    "    \n",
    "        _main_graph.Operation.append(self)\n",
    "    \n",
    "    def computing(self):\n",
    "        pass #provisional placeholder, the actual operation will be inherit here."
   ]
  },
  {
   "cell_type": "markdown",
   "metadata": {},
   "source": [
    "# Operations"
   ]
  },
  {
   "cell_type": "markdown",
   "metadata": {},
   "source": [
    "Here, all the operations will be defined as a class"
   ]
  },
  {
   "cell_type": "markdown",
   "metadata": {},
   "source": [
    "# Add +"
   ]
  },
  {
   "cell_type": "code",
   "execution_count": 3,
   "metadata": {},
   "outputs": [],
   "source": [
    "class add(TheOperation):\n",
    "    \n",
    "    def __init__(self, a,b):\n",
    "        super().__init__([a,b]) #we assign the inputs of the operation\n",
    "        \n",
    "    def computing(self, a,b): #this is the actual operation\n",
    "        self.Inputs = [a,b]\n",
    "        return a + b"
   ]
  },
  {
   "cell_type": "markdown",
   "metadata": {},
   "source": [
    "We can re-use the same code to create the rest of the operations"
   ]
  },
  {
   "cell_type": "markdown",
   "metadata": {},
   "source": [
    "# Multiplication *"
   ]
  },
  {
   "cell_type": "code",
   "execution_count": 4,
   "metadata": {},
   "outputs": [],
   "source": [
    "class multiply(TheOperation):\n",
    "    \n",
    "    def __init__(self, a,b):\n",
    "        super().__init__([a,b]) #we assign the inputs of the operation\n",
    "        \n",
    "    def computing(self, a,b): #this is the actual operation\n",
    "        self.Inputs = [a,b]\n",
    "        return a * b"
   ]
  },
  {
   "cell_type": "markdown",
   "metadata": {},
   "source": [
    "# Multiplication (Matrix) .*"
   ]
  },
  {
   "cell_type": "code",
   "execution_count": 5,
   "metadata": {},
   "outputs": [],
   "source": [
    "class multiplyM(TheOperation):\n",
    "    \n",
    "    def __init__(self, a,b):\n",
    "        super().__init__([a,b]) #we assign the inputs of the operation\n",
    "        \n",
    "    def computing(self, a,b): #this is the actual operation\n",
    "        self.Inputs = [a,b]\n",
    "        return a.dot(b)"
   ]
  },
  {
   "cell_type": "markdown",
   "metadata": {},
   "source": [
    "# The placeholders"
   ]
  },
  {
   "cell_type": "markdown",
   "metadata": {},
   "source": [
    "The placeholder is a empty node that will need a value for compute the outputs in the Graph.\n"
   ]
  },
  {
   "cell_type": "code",
   "execution_count": 6,
   "metadata": {},
   "outputs": [],
   "source": [
    "class Theplaceholder():\n",
    "    \n",
    "    def __init__(self):\n",
    "        self.Nodes_Ouput = [] #at the beginning it is an empty list\n",
    "        _main_graph.Placeholders.append(self) #use a global variable to access to the graph"
   ]
  },
  {
   "cell_type": "markdown",
   "metadata": {},
   "source": [
    "# The Variables"
   ]
  },
  {
   "cell_type": "markdown",
   "metadata": {},
   "source": [
    "Here, all variables are defined as a changeable value of the Graph."
   ]
  },
  {
   "cell_type": "code",
   "execution_count": 7,
   "metadata": {},
   "outputs": [],
   "source": [
    "class TheVariable():\n",
    "    \n",
    "    def __init__(self, value_initial = None): #the variable is initialize as empty\n",
    "        self.value = value_initial\n",
    "        self.Nodes_Ouput = []\n",
    "        _main_graph.Variables.append(self) #use a global variable to access to the graph"
   ]
  },
  {
   "cell_type": "markdown",
   "metadata": {},
   "source": [
    "# Order the operations, variables and placeholders"
   ]
  },
  {
   "cell_type": "markdown",
   "metadata": {},
   "source": [
    "This function creates a list of all operations, variables and placeholders in correct order to the be computed."
   ]
  },
  {
   "cell_type": "code",
   "execution_count": 8,
   "metadata": {},
   "outputs": [],
   "source": [
    "def Order_operation(operation):\n",
    "    \n",
    "    Ordered_nodes = []\n",
    "    \n",
    "    def order(Operation_nodes):\n",
    "        if isinstance(Operation_nodes, TheOperation): #If the node is part of an operation\n",
    "            for Nodes_input in Operation_nodes.Nodes_Input:\n",
    "                order(Nodes_input)\n",
    "        Ordered_nodes.append(Operation_nodes)\n",
    "    \n",
    "    order(operation)\n",
    "    return Ordered_nodes"
   ]
  },
  {
   "cell_type": "markdown",
   "metadata": {},
   "source": [
    "# The Graph"
   ]
  },
  {
   "cell_type": "markdown",
   "metadata": {},
   "source": [
    "Here is wehre the Graph is defined, to then perform computations in a session."
   ]
  },
  {
   "cell_type": "code",
   "execution_count": 9,
   "metadata": {},
   "outputs": [],
   "source": [
    "class TheGraph():\n",
    "    \n",
    "    def __init__(self):\n",
    "        \n",
    "        self.Operation = []\n",
    "        self.Variables = []\n",
    "        self.Placeholders = []\n",
    "    \n",
    "    def Default(self):\n",
    "        \n",
    "        global _main_graph #definition of global variable\n",
    "        _main_graph = self"
   ]
  },
  {
   "cell_type": "markdown",
   "metadata": {},
   "source": [
    "# The session"
   ]
  },
  {
   "cell_type": "code",
   "execution_count": 10,
   "metadata": {},
   "outputs": [],
   "source": [
    "class TheSession():\n",
    "    \n",
    "    def run(self, operation, Placeholder_dict = {}): #Placeholder_dict is the dictionary defining the placeholders\n",
    "        \n",
    "        #Create the list of operations, variables and placeholders\n",
    "        \n",
    "        Ordered_nodes = Order_operation(operation)\n",
    "        \n",
    "        for Nodes in Ordered_nodes:\n",
    "            if type(Nodes) == TheVariable:\n",
    "                Nodes.output = Nodes.value #the variables values  \n",
    "            elif type(Nodes) == Theplaceholder:\n",
    "                Nodes.output = Placeholder_dict[Nodes] #feed values to placeholders\n",
    "            else: #perform the operations\n",
    "                Nodes.inputs = [Nodes_Input.output for Nodes_Input in Nodes.Nodes_Input]\n",
    "                Nodes.output = Nodes.computing(*Nodes.inputs) #The * means that we do not know the number of parameters\n",
    "            if type(Nodes.output) == list:\n",
    "                Nodes.output = np.array(Nodes.output) #Convert to np array\n",
    "                \n",
    "        return operation.output"
   ]
  },
  {
   "cell_type": "markdown",
   "metadata": {},
   "source": [
    "# Perform the operation"
   ]
  },
  {
   "cell_type": "markdown",
   "metadata": {},
   "source": [
    "## Create a Graph"
   ]
  },
  {
   "cell_type": "code",
   "execution_count": 11,
   "metadata": {},
   "outputs": [],
   "source": [
    "Graph_test = TheGraph()\n",
    "Graph_test.Default()"
   ]
  },
  {
   "cell_type": "markdown",
   "metadata": {},
   "source": [
    "## Define variables, placeholders and operations"
   ]
  },
  {
   "cell_type": "code",
   "execution_count": 12,
   "metadata": {},
   "outputs": [],
   "source": [
    "A1 = TheVariable(20) #value 20\n",
    "Ph = Theplaceholder() #empty\n",
    "OP1 = multiply(A1,Ph) #multiplication\n",
    "A2 = TheVariable(5) #value 5\n",
    "OP2 = add(A2,OP1) # addition\n"
   ]
  },
  {
   "cell_type": "markdown",
   "metadata": {},
   "source": [
    "# Define the session and compute"
   ]
  },
  {
   "cell_type": "markdown",
   "metadata": {},
   "source": [
    "First test with scalar values"
   ]
  },
  {
   "cell_type": "code",
   "execution_count": 15,
   "metadata": {
    "pixiedust": {
     "displayParams": {}
    }
   },
   "outputs": [],
   "source": [
    "sess = TheSession()\n",
    "\n",
    "Results = sess.run(operation = OP2, Placeholder_dict = {Ph:50})"
   ]
  },
  {
   "cell_type": "code",
   "execution_count": 16,
   "metadata": {},
   "outputs": [
    {
     "name": "stdout",
     "output_type": "stream",
     "text": [
      "1005\n"
     ]
    }
   ],
   "source": [
    "print(Results)\n"
   ]
  },
  {
   "cell_type": "markdown",
   "metadata": {},
   "source": [
    "Second test with Matrix"
   ]
  },
  {
   "cell_type": "code",
   "execution_count": 27,
   "metadata": {},
   "outputs": [
    {
     "name": "stdout",
     "output_type": "stream",
     "text": [
      "[[  6528   9768]\n",
      " [139503 208803]]\n"
     ]
    }
   ],
   "source": [
    "\n",
    "#Define the graph\n",
    "G2 = TheGraph()\n",
    "G2.Default()\n",
    "\n",
    "#Define Varibales, placeholders and operations\n",
    "B1 = TheVariable([[15,21],[300,450]])\n",
    "B2 = TheVariable([3,3])\n",
    "PH2 = Theplaceholder()\n",
    "OP3 = multiplyM(B1,PH2)\n",
    "OP4 = add(OP3,B2)\n",
    "\n",
    "#Define the session\n",
    "sess2 = TheSession()\n",
    "Results2 = sess2.run(operation = OP4, Placeholder_dict = {PH2:[[15,21],[300,450]]})\n",
    "print(Results2)\n",
    "\n"
   ]
  }
 ],
 "metadata": {
  "kernelspec": {
   "display_name": "Python 3",
   "language": "python",
   "name": "python3"
  },
  "language_info": {
   "codemirror_mode": {
    "name": "ipython",
    "version": 3
   },
   "file_extension": ".py",
   "mimetype": "text/x-python",
   "name": "python",
   "nbconvert_exporter": "python",
   "pygments_lexer": "ipython3",
   "version": "3.6.8"
  }
 },
 "nbformat": 4,
 "nbformat_minor": 2
}
