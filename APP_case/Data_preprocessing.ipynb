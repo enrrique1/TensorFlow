{
 "cells": [
  {
   "cell_type": "markdown",
   "metadata": {},
   "source": [
    "# APP purchasing prediction with TensorFlow. Part 1"
   ]
  },
  {
   "cell_type": "markdown",
   "metadata": {},
   "source": [
    "# Preprocessing"
   ]
  },
  {
   "cell_type": "markdown",
   "metadata": {},
   "source": [
    "Code Created by Luis Enrique Acevedo Galicia\n",
    "\n",
    "Date: 2019-24-02\n",
    "\n",
    "Here, I present a simple and easy way to create a machine learning algorithm, which is able to predict if a customer will buy again.\n",
    "\n",
    "The APP_data.csv includes the ID of user, average of minutes purchasing the app, Total minutes purchasing the app, Average price paid, Total price paid, If user left review, The review, percentage of all funtions used from the app, minutes using the app, times user have called support, minutes of retunrning to our web site. At the end the target is presented, if user has purchased again or not.\n"
   ]
  },
  {
   "cell_type": "markdown",
   "metadata": {},
   "source": [
    "# Preprocessing the data"
   ]
  },
  {
   "cell_type": "markdown",
   "metadata": {},
   "source": [
    "# The Libraries"
   ]
  },
  {
   "cell_type": "code",
   "execution_count": 1,
   "metadata": {},
   "outputs": [],
   "source": [
    "import numpy as np\n",
    "from sklearn import preprocessing"
   ]
  },
  {
   "cell_type": "markdown",
   "metadata": {},
   "source": [
    "# Get the data"
   ]
  },
  {
   "cell_type": "code",
   "execution_count": 2,
   "metadata": {},
   "outputs": [],
   "source": [
    "#Load the data\n",
    "data_raw = np.loadtxt('APP_data.csv', delimiter=',')\n",
    "\n",
    "#Define inputs and targets\n",
    "Inputs_unscaled = data_raw[:,1:-1]\n",
    "Targets = data_raw[:,-1]\n"
   ]
  },
  {
   "cell_type": "markdown",
   "metadata": {},
   "source": [
    "# Balance Data"
   ]
  },
  {
   "cell_type": "code",
   "execution_count": 3,
   "metadata": {},
   "outputs": [],
   "source": [
    "#Count the targets that have purchased\n",
    "Targets_one = int(np.sum(Targets))\n",
    "\n",
    "#balance the number of ones with number of zeros\n",
    "Targets_zero = 0\n",
    "#In order to balance the dataset, we have to remove some cases\n",
    "Remove_idx = []\n",
    "#count the targets that are zero, then balance the numbers of ones and zeros, finally remove the rest cases\n",
    "for i in range(Targets.shape[0]):\n",
    "    if Targets[i] == 0:\n",
    "        Targets_zero += 1\n",
    "        if Targets_zero > Targets_one:\n",
    "            Remove_idx.append(i)\n",
    "\n",
    "#Create balanced inputs and targets\n",
    "Inputs_unscaled_balanced = np.delete(Inputs_unscaled, Remove_idx, axis = 0)\n",
    "Targets_balanced = np.delete(Targets, Remove_idx, axis = 0)"
   ]
  },
  {
   "cell_type": "markdown",
   "metadata": {},
   "source": [
    "# Standardize Data (inputs) and shuffle all data"
   ]
  },
  {
   "cell_type": "code",
   "execution_count": 4,
   "metadata": {},
   "outputs": [],
   "source": [
    "#Scale the inputs\n",
    "Inputs_scaled = preprocessing.scale(Inputs_unscaled_balanced)\n",
    "\n",
    "#Shuffle data to randomly spread dataset\n",
    "Idx_shuffle = np.arange(Inputs_scaled.shape[0])\n",
    "np.random.shuffle(Idx_shuffle)\n",
    "\n",
    "Inputs_shuffle = Inputs_scaled[Idx_shuffle]\n",
    "Targets_shuffle = Targets_balanced[Idx_shuffle]"
   ]
  },
  {
   "cell_type": "markdown",
   "metadata": {},
   "source": [
    "# Create data sets for: Train, validation and test"
   ]
  },
  {
   "cell_type": "code",
   "execution_count": 5,
   "metadata": {},
   "outputs": [
    {
     "name": "stdout",
     "output_type": "stream",
     "text": [
      "Total Train samples are 3579, percentage of ones is 0.49762503492595694  and zeros is 0.502374965074043  \n",
      "\n",
      "\n",
      "Total Validation samples are 447, percentage of ones is 0.5123042505592841  and zeros is 0.4876957494407159  \n",
      "\n",
      "\n",
      "Total Test samples are 448, percentage of ones is 0.5066964285714286  and zeros is 0.4933035714285714  \n"
     ]
    }
   ],
   "source": [
    "#total number of samples\n",
    "Tsample = Inputs_shuffle.shape[0]\n",
    "\n",
    "#define percentage of samples\n",
    "Train = 0.80\n",
    "Valid = 0.10\n",
    "\n",
    "\n",
    "Train_samples = int(Train*Tsample)\n",
    "Valid_samples = int(Valid*Tsample)\n",
    "Test_samples = Tsample-Train_samples-Valid_samples\n",
    "\n",
    "#define Train data set\n",
    "Inputs_Train = Inputs_shuffle[:Train_samples]\n",
    "Targets_Train = Targets_shuffle[:Train_samples]\n",
    "\n",
    "#define Validation data set\n",
    "Inputs_Valid = Inputs_shuffle[Train_samples:Train_samples+Valid_samples]\n",
    "Targets_Valid = Targets_shuffle[Train_samples:Train_samples+Valid_samples]\n",
    "\n",
    "\n",
    "#define Test data set\n",
    "Inputs_Test = Inputs_shuffle[Train_samples+Valid_samples:]\n",
    "Targets_Test = Targets_shuffle[Train_samples+Valid_samples:]\n",
    "\n",
    "#Verify results\n",
    "\n",
    "print(\"Total Train samples are %s, percentage of ones is %s  and zeros is %s  \" %(Train_samples, np.sum(Targets_Train)/Train_samples, 1-np.sum(Targets_Train)/Train_samples ))\n",
    "print(\"\\n\")\n",
    "print(\"Total Validation samples are %s, percentage of ones is %s  and zeros is %s  \" %(Valid_samples, np.sum(Targets_Valid)/Valid_samples, 1-np.sum(Targets_Valid)/Valid_samples ))\n",
    "print(\"\\n\")\n",
    "print(\"Total Test samples are %s, percentage of ones is %s  and zeros is %s  \" %(Test_samples, np.sum(Targets_Test)/Test_samples, 1-np.sum(Targets_Test)/Test_samples ))\n",
    "\n",
    "\n"
   ]
  },
  {
   "cell_type": "markdown",
   "metadata": {},
   "source": [
    "# Create data sets in format *.npz"
   ]
  },
  {
   "cell_type": "code",
   "execution_count": 6,
   "metadata": {},
   "outputs": [],
   "source": [
    "np.savez('APP_data_Train', inputs=Inputs_Train, targets=Targets_Train)\n",
    "np.savez('APP_data_Valid', inputs=Inputs_Valid, targets=Targets_Valid)\n",
    "np.savez('APP_data_Test', inputs=Inputs_Test, targets=Targets_Test)"
   ]
  },
  {
   "cell_type": "code",
   "execution_count": null,
   "metadata": {},
   "outputs": [],
   "source": []
  }
 ],
 "metadata": {
  "kernelspec": {
   "display_name": "Python 3",
   "language": "python",
   "name": "python3"
  },
  "language_info": {
   "codemirror_mode": {
    "name": "ipython",
    "version": 3
   },
   "file_extension": ".py",
   "mimetype": "text/x-python",
   "name": "python",
   "nbconvert_exporter": "python",
   "pygments_lexer": "ipython3",
   "version": "3.6.8"
  }
 },
 "nbformat": 4,
 "nbformat_minor": 2
}
