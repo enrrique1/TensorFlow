{
 "cells": [
  {
   "cell_type": "markdown",
   "metadata": {},
   "source": [
    "# Classification of California Census with TensorFlow "
   ]
  },
  {
   "cell_type": "markdown",
   "metadata": {},
   "source": [
    "Code Created by Luis Enrique Acevedo Galicia\n",
    "\n",
    "Date: 2019-11-04\n",
    "\n",
    "Here, I present a simple and easy way to create a classification with TensorFlow. In this case the data based on file census_data.csv. The targets are represented by incomes (>50k$ or <50k$) and the inputs are some live styles and live indicators."
   ]
  },
  {
   "cell_type": "markdown",
   "metadata": {},
   "source": [
    "# The Libraries"
   ]
  },
  {
   "cell_type": "code",
   "execution_count": 3,
   "metadata": {},
   "outputs": [],
   "source": [
    "import pandas as pd\n",
    "from sklearn.model_selection import train_test_split\n",
    "import tensorflow as tf\n",
    "from sklearn.metrics import classification_report"
   ]
  },
  {
   "cell_type": "markdown",
   "metadata": {},
   "source": [
    "# The data "
   ]
  },
  {
   "cell_type": "code",
   "execution_count": 4,
   "metadata": {},
   "outputs": [
    {
     "data": {
      "text/html": [
       "<div>\n",
       "<style scoped>\n",
       "    .dataframe tbody tr th:only-of-type {\n",
       "        vertical-align: middle;\n",
       "    }\n",
       "\n",
       "    .dataframe tbody tr th {\n",
       "        vertical-align: top;\n",
       "    }\n",
       "\n",
       "    .dataframe thead th {\n",
       "        text-align: right;\n",
       "    }\n",
       "</style>\n",
       "<table border=\"1\" class=\"dataframe\">\n",
       "  <thead>\n",
       "    <tr style=\"text-align: right;\">\n",
       "      <th></th>\n",
       "      <th>age</th>\n",
       "      <th>workclass</th>\n",
       "      <th>education</th>\n",
       "      <th>education_num</th>\n",
       "      <th>marital_status</th>\n",
       "      <th>occupation</th>\n",
       "      <th>relationship</th>\n",
       "      <th>race</th>\n",
       "      <th>gender</th>\n",
       "      <th>capital_gain</th>\n",
       "      <th>capital_loss</th>\n",
       "      <th>hours_per_week</th>\n",
       "      <th>native_country</th>\n",
       "      <th>income_bracket</th>\n",
       "    </tr>\n",
       "  </thead>\n",
       "  <tbody>\n",
       "    <tr>\n",
       "      <th>0</th>\n",
       "      <td>39</td>\n",
       "      <td>State-gov</td>\n",
       "      <td>Bachelors</td>\n",
       "      <td>13</td>\n",
       "      <td>Never-married</td>\n",
       "      <td>Adm-clerical</td>\n",
       "      <td>Not-in-family</td>\n",
       "      <td>White</td>\n",
       "      <td>Male</td>\n",
       "      <td>2174</td>\n",
       "      <td>0</td>\n",
       "      <td>40</td>\n",
       "      <td>United-States</td>\n",
       "      <td>&lt;=50K</td>\n",
       "    </tr>\n",
       "    <tr>\n",
       "      <th>1</th>\n",
       "      <td>50</td>\n",
       "      <td>Self-emp-not-inc</td>\n",
       "      <td>Bachelors</td>\n",
       "      <td>13</td>\n",
       "      <td>Married-civ-spouse</td>\n",
       "      <td>Exec-managerial</td>\n",
       "      <td>Husband</td>\n",
       "      <td>White</td>\n",
       "      <td>Male</td>\n",
       "      <td>0</td>\n",
       "      <td>0</td>\n",
       "      <td>13</td>\n",
       "      <td>United-States</td>\n",
       "      <td>&lt;=50K</td>\n",
       "    </tr>\n",
       "    <tr>\n",
       "      <th>2</th>\n",
       "      <td>38</td>\n",
       "      <td>Private</td>\n",
       "      <td>HS-grad</td>\n",
       "      <td>9</td>\n",
       "      <td>Divorced</td>\n",
       "      <td>Handlers-cleaners</td>\n",
       "      <td>Not-in-family</td>\n",
       "      <td>White</td>\n",
       "      <td>Male</td>\n",
       "      <td>0</td>\n",
       "      <td>0</td>\n",
       "      <td>40</td>\n",
       "      <td>United-States</td>\n",
       "      <td>&lt;=50K</td>\n",
       "    </tr>\n",
       "    <tr>\n",
       "      <th>3</th>\n",
       "      <td>53</td>\n",
       "      <td>Private</td>\n",
       "      <td>11th</td>\n",
       "      <td>7</td>\n",
       "      <td>Married-civ-spouse</td>\n",
       "      <td>Handlers-cleaners</td>\n",
       "      <td>Husband</td>\n",
       "      <td>Black</td>\n",
       "      <td>Male</td>\n",
       "      <td>0</td>\n",
       "      <td>0</td>\n",
       "      <td>40</td>\n",
       "      <td>United-States</td>\n",
       "      <td>&lt;=50K</td>\n",
       "    </tr>\n",
       "    <tr>\n",
       "      <th>4</th>\n",
       "      <td>28</td>\n",
       "      <td>Private</td>\n",
       "      <td>Bachelors</td>\n",
       "      <td>13</td>\n",
       "      <td>Married-civ-spouse</td>\n",
       "      <td>Prof-specialty</td>\n",
       "      <td>Wife</td>\n",
       "      <td>Black</td>\n",
       "      <td>Female</td>\n",
       "      <td>0</td>\n",
       "      <td>0</td>\n",
       "      <td>40</td>\n",
       "      <td>Cuba</td>\n",
       "      <td>&lt;=50K</td>\n",
       "    </tr>\n",
       "  </tbody>\n",
       "</table>\n",
       "</div>"
      ],
      "text/plain": [
       "   age          workclass   education  education_num       marital_status  \\\n",
       "0   39          State-gov   Bachelors             13        Never-married   \n",
       "1   50   Self-emp-not-inc   Bachelors             13   Married-civ-spouse   \n",
       "2   38            Private     HS-grad              9             Divorced   \n",
       "3   53            Private        11th              7   Married-civ-spouse   \n",
       "4   28            Private   Bachelors             13   Married-civ-spouse   \n",
       "\n",
       "           occupation    relationship    race   gender  capital_gain  \\\n",
       "0        Adm-clerical   Not-in-family   White     Male          2174   \n",
       "1     Exec-managerial         Husband   White     Male             0   \n",
       "2   Handlers-cleaners   Not-in-family   White     Male             0   \n",
       "3   Handlers-cleaners         Husband   Black     Male             0   \n",
       "4      Prof-specialty            Wife   Black   Female             0   \n",
       "\n",
       "   capital_loss  hours_per_week  native_country income_bracket  \n",
       "0             0              40   United-States          <=50K  \n",
       "1             0              13   United-States          <=50K  \n",
       "2             0              40   United-States          <=50K  \n",
       "3             0              40   United-States          <=50K  \n",
       "4             0              40            Cuba          <=50K  "
      ]
     },
     "execution_count": 4,
     "metadata": {},
     "output_type": "execute_result"
    }
   ],
   "source": [
    "data = pd.read_csv('census_data.csv')\n",
    "data.head()"
   ]
  },
  {
   "cell_type": "markdown",
   "metadata": {},
   "source": [
    "Verifying that data is completed"
   ]
  },
  {
   "cell_type": "code",
   "execution_count": 5,
   "metadata": {},
   "outputs": [
    {
     "data": {
      "text/html": [
       "<div>\n",
       "<style scoped>\n",
       "    .dataframe tbody tr th:only-of-type {\n",
       "        vertical-align: middle;\n",
       "    }\n",
       "\n",
       "    .dataframe tbody tr th {\n",
       "        vertical-align: top;\n",
       "    }\n",
       "\n",
       "    .dataframe thead th {\n",
       "        text-align: right;\n",
       "    }\n",
       "</style>\n",
       "<table border=\"1\" class=\"dataframe\">\n",
       "  <thead>\n",
       "    <tr style=\"text-align: right;\">\n",
       "      <th></th>\n",
       "      <th>age</th>\n",
       "      <th>workclass</th>\n",
       "      <th>education</th>\n",
       "      <th>education_num</th>\n",
       "      <th>marital_status</th>\n",
       "      <th>occupation</th>\n",
       "      <th>relationship</th>\n",
       "      <th>race</th>\n",
       "      <th>gender</th>\n",
       "      <th>capital_gain</th>\n",
       "      <th>capital_loss</th>\n",
       "      <th>hours_per_week</th>\n",
       "      <th>native_country</th>\n",
       "      <th>income_bracket</th>\n",
       "    </tr>\n",
       "  </thead>\n",
       "  <tbody>\n",
       "  </tbody>\n",
       "</table>\n",
       "</div>"
      ],
      "text/plain": [
       "Empty DataFrame\n",
       "Columns: [age, workclass, education, education_num, marital_status, occupation, relationship, race, gender, capital_gain, capital_loss, hours_per_week, native_country, income_bracket]\n",
       "Index: []"
      ]
     },
     "execution_count": 5,
     "metadata": {},
     "output_type": "execute_result"
    }
   ],
   "source": [
    "data[pd.isnull(data['education_num'])]"
   ]
  },
  {
   "cell_type": "markdown",
   "metadata": {},
   "source": [
    "learning about this data set"
   ]
  },
  {
   "cell_type": "code",
   "execution_count": 6,
   "metadata": {},
   "outputs": [
    {
     "data": {
      "text/html": [
       "<div>\n",
       "<style scoped>\n",
       "    .dataframe tbody tr th:only-of-type {\n",
       "        vertical-align: middle;\n",
       "    }\n",
       "\n",
       "    .dataframe tbody tr th {\n",
       "        vertical-align: top;\n",
       "    }\n",
       "\n",
       "    .dataframe thead th {\n",
       "        text-align: right;\n",
       "    }\n",
       "</style>\n",
       "<table border=\"1\" class=\"dataframe\">\n",
       "  <thead>\n",
       "    <tr style=\"text-align: right;\">\n",
       "      <th></th>\n",
       "      <th>age</th>\n",
       "      <th>education_num</th>\n",
       "      <th>capital_gain</th>\n",
       "      <th>capital_loss</th>\n",
       "      <th>hours_per_week</th>\n",
       "    </tr>\n",
       "  </thead>\n",
       "  <tbody>\n",
       "    <tr>\n",
       "      <th>count</th>\n",
       "      <td>32561.000000</td>\n",
       "      <td>32561.000000</td>\n",
       "      <td>32561.000000</td>\n",
       "      <td>32561.000000</td>\n",
       "      <td>32561.000000</td>\n",
       "    </tr>\n",
       "    <tr>\n",
       "      <th>mean</th>\n",
       "      <td>38.581647</td>\n",
       "      <td>10.080679</td>\n",
       "      <td>1077.648844</td>\n",
       "      <td>87.303830</td>\n",
       "      <td>40.437456</td>\n",
       "    </tr>\n",
       "    <tr>\n",
       "      <th>std</th>\n",
       "      <td>13.640433</td>\n",
       "      <td>2.572720</td>\n",
       "      <td>7385.292085</td>\n",
       "      <td>402.960219</td>\n",
       "      <td>12.347429</td>\n",
       "    </tr>\n",
       "    <tr>\n",
       "      <th>min</th>\n",
       "      <td>17.000000</td>\n",
       "      <td>1.000000</td>\n",
       "      <td>0.000000</td>\n",
       "      <td>0.000000</td>\n",
       "      <td>1.000000</td>\n",
       "    </tr>\n",
       "    <tr>\n",
       "      <th>25%</th>\n",
       "      <td>28.000000</td>\n",
       "      <td>9.000000</td>\n",
       "      <td>0.000000</td>\n",
       "      <td>0.000000</td>\n",
       "      <td>40.000000</td>\n",
       "    </tr>\n",
       "    <tr>\n",
       "      <th>50%</th>\n",
       "      <td>37.000000</td>\n",
       "      <td>10.000000</td>\n",
       "      <td>0.000000</td>\n",
       "      <td>0.000000</td>\n",
       "      <td>40.000000</td>\n",
       "    </tr>\n",
       "    <tr>\n",
       "      <th>75%</th>\n",
       "      <td>48.000000</td>\n",
       "      <td>12.000000</td>\n",
       "      <td>0.000000</td>\n",
       "      <td>0.000000</td>\n",
       "      <td>45.000000</td>\n",
       "    </tr>\n",
       "    <tr>\n",
       "      <th>max</th>\n",
       "      <td>90.000000</td>\n",
       "      <td>16.000000</td>\n",
       "      <td>99999.000000</td>\n",
       "      <td>4356.000000</td>\n",
       "      <td>99.000000</td>\n",
       "    </tr>\n",
       "  </tbody>\n",
       "</table>\n",
       "</div>"
      ],
      "text/plain": [
       "                age  education_num  capital_gain  capital_loss  hours_per_week\n",
       "count  32561.000000   32561.000000  32561.000000  32561.000000    32561.000000\n",
       "mean      38.581647      10.080679   1077.648844     87.303830       40.437456\n",
       "std       13.640433       2.572720   7385.292085    402.960219       12.347429\n",
       "min       17.000000       1.000000      0.000000      0.000000        1.000000\n",
       "25%       28.000000       9.000000      0.000000      0.000000       40.000000\n",
       "50%       37.000000      10.000000      0.000000      0.000000       40.000000\n",
       "75%       48.000000      12.000000      0.000000      0.000000       45.000000\n",
       "max       90.000000      16.000000  99999.000000   4356.000000       99.000000"
      ]
     },
     "execution_count": 6,
     "metadata": {},
     "output_type": "execute_result"
    }
   ],
   "source": [
    "data.describe()"
   ]
  },
  {
   "cell_type": "markdown",
   "metadata": {},
   "source": [
    "## Preprocessing Data"
   ]
  },
  {
   "cell_type": "code",
   "execution_count": 7,
   "metadata": {},
   "outputs": [
    {
     "data": {
      "text/plain": [
       "array([' <=50K', ' >50K'], dtype=object)"
      ]
     },
     "execution_count": 7,
     "metadata": {},
     "output_type": "execute_result"
    }
   ],
   "source": [
    "#Since there are some parameters in string formats, some preprocessing is neccesary.\n",
    "#Let's begin with the income.\n",
    "data['income_bracket'].unique()\n",
    "\n"
   ]
  },
  {
   "cell_type": "code",
   "execution_count": 10,
   "metadata": {},
   "outputs": [],
   "source": [
    "#create a function to change from string to 1's and 0's\n",
    "\n",
    "def label_to_num(lab):\n",
    "    if lab==' <=50K':\n",
    "        return 0\n",
    "    else:\n",
    "        return 1"
   ]
  },
  {
   "cell_type": "code",
   "execution_count": 12,
   "metadata": {},
   "outputs": [],
   "source": [
    "#Transform the income\n",
    "data['income_bracket'] = data['income_bracket'].apply(label_to_num)"
   ]
  },
  {
   "cell_type": "markdown",
   "metadata": {},
   "source": [
    "## Split the data"
   ]
  },
  {
   "cell_type": "code",
   "execution_count": 13,
   "metadata": {},
   "outputs": [],
   "source": [
    "Inputs_data = data.drop('income_bracket',axis=1)\n",
    "Targets_data = data['income_bracket']\n",
    "Inputs_train, Inputs_test, Targets_train, Targets_test = train_test_split(Inputs_data,Targets_data,test_size=0.3,random_state=101)"
   ]
  },
  {
   "cell_type": "markdown",
   "metadata": {},
   "source": [
    "## Features Columns "
   ]
  },
  {
   "cell_type": "code",
   "execution_count": 15,
   "metadata": {},
   "outputs": [],
   "source": [
    "# first the categorical features.\n",
    "gender = tf.feature_column.categorical_column_with_vocabulary_list(\"gender\", [\"Female\", \"Male\"])\n",
    "occupation = tf.feature_column.categorical_column_with_hash_bucket(\"occupation\", hash_bucket_size=1000)\n",
    "marital_status = tf.feature_column.categorical_column_with_hash_bucket(\"marital_status\", hash_bucket_size=1000)\n",
    "relationship = tf.feature_column.categorical_column_with_hash_bucket(\"relationship\", hash_bucket_size=1000)\n",
    "education = tf.feature_column.categorical_column_with_hash_bucket(\"education\", hash_bucket_size=1000)\n",
    "workclass = tf.feature_column.categorical_column_with_hash_bucket(\"workclass\", hash_bucket_size=1000)\n",
    "native_country = tf.feature_column.categorical_column_with_hash_bucket(\"native_country\", hash_bucket_size=1000)\n",
    "\n",
    "#Numerical features\n",
    "\n",
    "age = tf.feature_column.numeric_column(\"age\")\n",
    "education_num = tf.feature_column.numeric_column(\"education_num\")\n",
    "capital_gain = tf.feature_column.numeric_column(\"capital_gain\")\n",
    "capital_loss = tf.feature_column.numeric_column(\"capital_loss\")\n",
    "hours_per_week = tf.feature_column.numeric_column(\"hours_per_week\")\n",
    "\n",
    "#finally, the feature column\n",
    "feature_C = [gender,occupation,marital_status,relationship,education,workclass,native_country,\n",
    "            age,education_num,capital_gain,capital_loss,hours_per_week]"
   ]
  },
  {
   "cell_type": "markdown",
   "metadata": {},
   "source": [
    "## The model"
   ]
  },
  {
   "cell_type": "code",
   "execution_count": 18,
   "metadata": {},
   "outputs": [
    {
     "name": "stdout",
     "output_type": "stream",
     "text": [
      "INFO:tensorflow:Using default config.\n",
      "WARNING:tensorflow:Using temporary folder as model directory: /tmp/tmpazdc1w_0\n",
      "INFO:tensorflow:Using config: {'_model_dir': '/tmp/tmpazdc1w_0', '_tf_random_seed': None, '_save_summary_steps': 100, '_save_checkpoints_steps': None, '_save_checkpoints_secs': 600, '_session_config': allow_soft_placement: true\n",
      "graph_options {\n",
      "  rewrite_options {\n",
      "    meta_optimizer_iterations: ONE\n",
      "  }\n",
      "}\n",
      ", '_keep_checkpoint_max': 5, '_keep_checkpoint_every_n_hours': 10000, '_log_step_count_steps': 100, '_train_distribute': None, '_device_fn': None, '_protocol': None, '_eval_distribute': None, '_experimental_distribute': None, '_service': None, '_cluster_spec': <tensorflow.python.training.server_lib.ClusterSpec object at 0x7f82dcec3d30>, '_task_type': 'worker', '_task_id': 0, '_global_id_in_cluster': 0, '_master': '', '_evaluation_master': '', '_is_chief': True, '_num_ps_replicas': 0, '_num_worker_replicas': 1}\n"
     ]
    }
   ],
   "source": [
    "#The input function\n",
    "input_F = tf.estimator.inputs.pandas_input_fn(x=Inputs_train,y=Targets_train,batch_size=100,num_epochs=None,shuffle=True)\n",
    "\n",
    "#The model will be a lienar classifier\n",
    "LC_model = tf.estimator.LinearClassifier(feature_columns=feature_C)\n"
   ]
  },
  {
   "cell_type": "code",
   "execution_count": 19,
   "metadata": {},
   "outputs": [
    {
     "name": "stdout",
     "output_type": "stream",
     "text": [
      "WARNING:tensorflow:From /home/bwayne/anaconda3/lib/python3.6/site-packages/tensorflow/python/estimator/inputs/queues/feeding_queue_runner.py:62: QueueRunner.__init__ (from tensorflow.python.training.queue_runner_impl) is deprecated and will be removed in a future version.\n",
      "Instructions for updating:\n",
      "To construct input pipelines, use the `tf.data` module.\n",
      "WARNING:tensorflow:From /home/bwayne/anaconda3/lib/python3.6/site-packages/tensorflow/python/estimator/inputs/queues/feeding_functions.py:500: add_queue_runner (from tensorflow.python.training.queue_runner_impl) is deprecated and will be removed in a future version.\n",
      "Instructions for updating:\n",
      "To construct input pipelines, use the `tf.data` module.\n",
      "INFO:tensorflow:Calling model_fn.\n",
      "INFO:tensorflow:Done calling model_fn.\n",
      "INFO:tensorflow:Create CheckpointSaverHook.\n",
      "INFO:tensorflow:Graph was finalized.\n",
      "INFO:tensorflow:Running local_init_op.\n",
      "INFO:tensorflow:Done running local_init_op.\n",
      "WARNING:tensorflow:From /home/bwayne/anaconda3/lib/python3.6/site-packages/tensorflow/python/training/monitored_session.py:804: start_queue_runners (from tensorflow.python.training.queue_runner_impl) is deprecated and will be removed in a future version.\n",
      "Instructions for updating:\n",
      "To construct input pipelines, use the `tf.data` module.\n",
      "INFO:tensorflow:Saving checkpoints for 0 into /tmp/tmpazdc1w_0/model.ckpt.\n",
      "INFO:tensorflow:loss = 69.31474, step = 1\n",
      "INFO:tensorflow:global_step/sec: 105.175\n",
      "INFO:tensorflow:loss = 1289.2814, step = 101 (0.952 sec)\n",
      "INFO:tensorflow:global_step/sec: 151.998\n",
      "INFO:tensorflow:loss = 185.56314, step = 201 (0.658 sec)\n",
      "INFO:tensorflow:global_step/sec: 165.026\n",
      "INFO:tensorflow:loss = 58.219345, step = 301 (0.608 sec)\n",
      "INFO:tensorflow:global_step/sec: 162.049\n",
      "INFO:tensorflow:loss = 39.362526, step = 401 (0.615 sec)\n",
      "INFO:tensorflow:global_step/sec: 175.865\n",
      "INFO:tensorflow:loss = 468.3782, step = 501 (0.567 sec)\n",
      "INFO:tensorflow:global_step/sec: 170.497\n",
      "INFO:tensorflow:loss = 42.041725, step = 601 (0.586 sec)\n",
      "INFO:tensorflow:global_step/sec: 181.672\n",
      "INFO:tensorflow:loss = 79.15434, step = 701 (0.552 sec)\n",
      "INFO:tensorflow:global_step/sec: 198.849\n",
      "INFO:tensorflow:loss = 30.772972, step = 801 (0.502 sec)\n",
      "INFO:tensorflow:global_step/sec: 185.189\n",
      "INFO:tensorflow:loss = 67.51843, step = 901 (0.540 sec)\n",
      "INFO:tensorflow:global_step/sec: 182.447\n",
      "INFO:tensorflow:loss = 49.162834, step = 1001 (0.548 sec)\n",
      "INFO:tensorflow:global_step/sec: 184.356\n",
      "INFO:tensorflow:loss = 30.900005, step = 1101 (0.543 sec)\n",
      "INFO:tensorflow:global_step/sec: 178.327\n",
      "INFO:tensorflow:loss = 222.71756, step = 1201 (0.562 sec)\n",
      "INFO:tensorflow:global_step/sec: 182.252\n",
      "INFO:tensorflow:loss = 145.53775, step = 1301 (0.549 sec)\n",
      "INFO:tensorflow:global_step/sec: 174.334\n",
      "INFO:tensorflow:loss = 209.43526, step = 1401 (0.574 sec)\n",
      "INFO:tensorflow:global_step/sec: 175.786\n",
      "INFO:tensorflow:loss = 51.459305, step = 1501 (0.568 sec)\n",
      "INFO:tensorflow:global_step/sec: 172.415\n",
      "INFO:tensorflow:loss = 48.97972, step = 1601 (0.581 sec)\n",
      "INFO:tensorflow:global_step/sec: 190.842\n",
      "INFO:tensorflow:loss = 61.65826, step = 1701 (0.525 sec)\n",
      "INFO:tensorflow:global_step/sec: 184.854\n",
      "INFO:tensorflow:loss = 74.934814, step = 1801 (0.540 sec)\n",
      "INFO:tensorflow:global_step/sec: 118.791\n",
      "INFO:tensorflow:loss = 73.16427, step = 1901 (0.843 sec)\n",
      "INFO:tensorflow:global_step/sec: 185.61\n",
      "INFO:tensorflow:loss = 241.2982, step = 2001 (0.538 sec)\n",
      "INFO:tensorflow:global_step/sec: 184.436\n",
      "INFO:tensorflow:loss = 155.23917, step = 2101 (0.542 sec)\n",
      "INFO:tensorflow:global_step/sec: 185.169\n",
      "INFO:tensorflow:loss = 356.097, step = 2201 (0.540 sec)\n",
      "INFO:tensorflow:global_step/sec: 198.947\n",
      "INFO:tensorflow:loss = 30.788702, step = 2301 (0.503 sec)\n",
      "INFO:tensorflow:global_step/sec: 177.571\n",
      "INFO:tensorflow:loss = 35.603783, step = 2401 (0.563 sec)\n",
      "INFO:tensorflow:global_step/sec: 173.952\n",
      "INFO:tensorflow:loss = 36.25579, step = 2501 (0.575 sec)\n",
      "INFO:tensorflow:global_step/sec: 169.794\n",
      "INFO:tensorflow:loss = 56.032066, step = 2601 (0.589 sec)\n",
      "INFO:tensorflow:global_step/sec: 188.668\n",
      "INFO:tensorflow:loss = 111.67326, step = 2701 (0.531 sec)\n",
      "INFO:tensorflow:global_step/sec: 164.47\n",
      "INFO:tensorflow:loss = 184.97202, step = 2801 (0.608 sec)\n",
      "INFO:tensorflow:global_step/sec: 145.724\n",
      "INFO:tensorflow:loss = 48.01233, step = 2901 (0.684 sec)\n",
      "INFO:tensorflow:global_step/sec: 181.437\n",
      "INFO:tensorflow:loss = 36.58551, step = 3001 (0.553 sec)\n",
      "INFO:tensorflow:global_step/sec: 161.331\n",
      "INFO:tensorflow:loss = 53.234077, step = 3101 (0.620 sec)\n",
      "INFO:tensorflow:global_step/sec: 148.303\n",
      "INFO:tensorflow:loss = 38.55388, step = 3201 (0.673 sec)\n",
      "INFO:tensorflow:global_step/sec: 185.043\n",
      "INFO:tensorflow:loss = 26.271482, step = 3301 (0.540 sec)\n",
      "INFO:tensorflow:global_step/sec: 190.025\n",
      "INFO:tensorflow:loss = 28.299583, step = 3401 (0.526 sec)\n",
      "INFO:tensorflow:global_step/sec: 192\n",
      "INFO:tensorflow:loss = 57.26255, step = 3501 (0.521 sec)\n",
      "INFO:tensorflow:global_step/sec: 181.155\n",
      "INFO:tensorflow:loss = 45.479492, step = 3601 (0.553 sec)\n",
      "INFO:tensorflow:global_step/sec: 157.288\n",
      "INFO:tensorflow:loss = 105.55699, step = 3701 (0.635 sec)\n",
      "INFO:tensorflow:global_step/sec: 161.91\n",
      "INFO:tensorflow:loss = 96.177956, step = 3801 (0.617 sec)\n",
      "INFO:tensorflow:global_step/sec: 188.272\n",
      "INFO:tensorflow:loss = 169.24554, step = 3901 (0.532 sec)\n",
      "INFO:tensorflow:global_step/sec: 177.677\n",
      "INFO:tensorflow:loss = 146.44693, step = 4001 (0.562 sec)\n",
      "INFO:tensorflow:global_step/sec: 187.036\n",
      "INFO:tensorflow:loss = 72.05198, step = 4101 (0.536 sec)\n",
      "INFO:tensorflow:global_step/sec: 192.652\n",
      "INFO:tensorflow:loss = 299.95407, step = 4201 (0.518 sec)\n",
      "INFO:tensorflow:global_step/sec: 172.228\n",
      "INFO:tensorflow:loss = 196.1902, step = 4301 (0.580 sec)\n",
      "INFO:tensorflow:global_step/sec: 193.037\n",
      "INFO:tensorflow:loss = 353.5484, step = 4401 (0.518 sec)\n",
      "INFO:tensorflow:global_step/sec: 177.222\n",
      "INFO:tensorflow:loss = 34.957623, step = 4501 (0.565 sec)\n",
      "INFO:tensorflow:global_step/sec: 185.001\n",
      "INFO:tensorflow:loss = 40.873367, step = 4601 (0.540 sec)\n",
      "INFO:tensorflow:global_step/sec: 167.561\n",
      "INFO:tensorflow:loss = 41.518814, step = 4701 (0.597 sec)\n",
      "INFO:tensorflow:global_step/sec: 175.49\n",
      "INFO:tensorflow:loss = 26.073317, step = 4801 (0.571 sec)\n",
      "INFO:tensorflow:global_step/sec: 178.944\n",
      "INFO:tensorflow:loss = 42.793793, step = 4901 (0.558 sec)\n",
      "INFO:tensorflow:Saving checkpoints for 5000 into /tmp/tmpazdc1w_0/model.ckpt.\n",
      "INFO:tensorflow:Loss for final step: 46.970505.\n"
     ]
    },
    {
     "data": {
      "text/plain": [
       "<tensorflow.python.estimator.canned.linear.LinearClassifier at 0x7f82dcec37f0>"
      ]
     },
     "execution_count": 19,
     "metadata": {},
     "output_type": "execute_result"
    }
   ],
   "source": [
    "LC_model.train(input_fn=input_F, steps=5000)"
   ]
  },
  {
   "cell_type": "markdown",
   "metadata": {},
   "source": [
    "## Evaluation of the model"
   ]
  },
  {
   "cell_type": "code",
   "execution_count": 20,
   "metadata": {},
   "outputs": [
    {
     "name": "stdout",
     "output_type": "stream",
     "text": [
      "INFO:tensorflow:Calling model_fn.\n",
      "INFO:tensorflow:Done calling model_fn.\n",
      "INFO:tensorflow:Graph was finalized.\n",
      "INFO:tensorflow:Restoring parameters from /tmp/tmpazdc1w_0/model.ckpt-5000\n",
      "INFO:tensorflow:Running local_init_op.\n",
      "INFO:tensorflow:Done running local_init_op.\n"
     ]
    },
    {
     "data": {
      "text/plain": [
       "{'logits': array([-1.0882471], dtype=float32),\n",
       " 'logistic': array([0.2519485], dtype=float32),\n",
       " 'probabilities': array([0.74805146, 0.2519485 ], dtype=float32),\n",
       " 'class_ids': array([0]),\n",
       " 'classes': array([b'0'], dtype=object)}"
      ]
     },
     "execution_count": 20,
     "metadata": {},
     "output_type": "execute_result"
    }
   ],
   "source": [
    "prediction_F = tf.estimator.inputs.pandas_input_fn(x=Inputs_test,batch_size=len(Inputs_test),shuffle=False)\n",
    "predictions = list(LC_model.predict(input_fn=prediction_F))\n",
    "predictions[0]"
   ]
  },
  {
   "cell_type": "code",
   "execution_count": 21,
   "metadata": {},
   "outputs": [],
   "source": [
    "Prediction_final = []\n",
    "for predict in predictions:\n",
    "    Prediction_final.append(predict['class_ids'][0])"
   ]
  },
  {
   "cell_type": "markdown",
   "metadata": {},
   "source": [
    "## Performance of the model"
   ]
  },
  {
   "cell_type": "code",
   "execution_count": 26,
   "metadata": {},
   "outputs": [
    {
     "name": "stdout",
     "output_type": "stream",
     "text": [
      "              precision    recall  f1-score   support\n",
      "\n",
      "           0       0.88      0.93      0.91      7436\n",
      "           1       0.74      0.59      0.66      2333\n",
      "\n",
      "   micro avg       0.85      0.85      0.85      9769\n",
      "   macro avg       0.81      0.76      0.78      9769\n",
      "weighted avg       0.85      0.85      0.85      9769\n",
      "\n"
     ]
    }
   ],
   "source": [
    "print(classification_report(Targets_test, Prediction_final))"
   ]
  },
  {
   "cell_type": "code",
   "execution_count": null,
   "metadata": {},
   "outputs": [],
   "source": []
  }
 ],
 "metadata": {
  "kernelspec": {
   "display_name": "Python 3",
   "language": "python",
   "name": "python3"
  },
  "language_info": {
   "codemirror_mode": {
    "name": "ipython",
    "version": 3
   },
   "file_extension": ".py",
   "mimetype": "text/x-python",
   "name": "python",
   "nbconvert_exporter": "python",
   "pygments_lexer": "ipython3",
   "version": "3.6.8"
  }
 },
 "nbformat": 4,
 "nbformat_minor": 2
}
